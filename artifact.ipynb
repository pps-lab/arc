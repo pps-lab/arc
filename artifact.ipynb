{
 "cells": [
  {
   "cell_type": "markdown",
   "metadata": {},
   "source": [
    "# Arc\n",
    "<a name=\"readme-top\"></a>\n",
    "\n",
    "This repository contains the artifact for the USENIX 2024 submission [\"Holding Secrets Accountable: Auditing Privacy-Preserving Machine Learning\"](https://arxiv.org/abs/2402.15780).\n",
    "\n",
    "<!-- ABOUT THE PROJECT -->\n",
    "## Abstract\n",
    "In this work, we introduce Arc, an MPC framework designed\n",
    "for auditing privacy-preserving machine learning. \n",
    "Arc cryptographically ties together MPC training, inference, and auditing\n",
    "phases to allow robust and private auditing. \n",
    "At the core of our framework is a new protocol for efficiently verifying inputs\n",
    "against succinct commitments, ensuring the integrity of the training data, model and prediction samples across phases. \n",
    "We evaluate the performance\n",
    "of our framework when instantiated with our consistency protocol and compare it to hashing-based and homomorphic commitment-based approaches, demonstrating that it is up to\n",
    "10^4× faster and up to 10^6× more concise.\n"
   ]
  },
  {
   "cell_type": "markdown",
   "metadata": {},
   "source": [
    "## Description & Requirements\n",
    "The artifact is a prototype implementation of the Arc framework.\n",
    "The prototype is designed to focus on evaluating the overheads of input consistency protocols for MPC computations.\n",
    "The framework uses the MPC implementation of MP-SPDZ, a research framework execute MPC programs with different protocols. \n",
    "Arc extends the MPC protocols in MP-SPDZ with the ability to check that MPC inputs are consistent with a commitment through a novel consistency check protocol.\n",
    "\n",
    "This repository is structured as follows.\n",
    "\n",
    "### Arc Components\n",
    "- [MPC auditing functions](scripts) \n",
    "Implementations of several auditing functions (in addition to ML training and inference) in [MP-SPDZ's](MP-SPDZ) DSL.\n",
    "\n",
    "- [MPC consistency utils](script_utils)\n",
    "A helper library with 1) functionality to load the correct datasets and models for auditing and 2) to compute the correct metadata for the inputs and outputs to run the consistency check protocol on.\n",
    "\n",
    "- [Consistency check protocol](mpc-consistency) The code for the consistency check protocol based on polynomial commitments.\n",
    "This component uses Arkworks' poly_commit library and is implemented in Rust.\n",
    "\n",
    "- [Share conversion and efficient EC-MPC scripts](https://github.com/pps-lab/MP-SPDZ/tree/85c3c7e65bb7759c96ef540cca96f6a7163d3568) \n",
    "Our framework adds functionality to MP-SPDZ for share conversion and efficient EC-MPC operations, which\n",
    "are implemented as lower-level MP-SPDZ scripts.\n",
    "\n",
    "### Arc Benchmarks & Evaluation\n",
    "- [DoE-Suite](https://github.com/nicolas-kuechler/doe-suite) The evaluation is built using the [DoE-Suite](https://github.com/nicolas-kuechler/doe-suite), which allows\n",
    "straightforward reproducibility of results by defining experiments in a configuration file (_suite_) and executing them on a set of machines.\n",
    "We provide the necessary DoE-Suite commands to reproduce all results. \n",
    "However, it is also possible to obtain the individual commands used to invoke the framework and run them manually.\n",
    "- [Utils](utils/python_utils) [Experiment runner](utils/python_utils/scripts/experiment_runner.py) utility that ties together the MPC computation, the share conversion and the consistency protocols.\n",
    "This script is the entrypoint for the remote servers when running the experiment and reads the experiment instance config file\n",
    "created by doe-suite for each experiment.\n",
    "\n",
    "  \n",
    "### Security, privacy, and ethical concerns\n",
    "There are no concerns when running this artifact locally.\n",
    "Please note that executing experiments on your AWS infrastructure involves the creation of multiple EC2 instances, resulting in associated costs.\n",
    "Please manually check that any created machines are terminated afterward.\n",
    "\n",
    "\n",
    "### How to access\n",
    "The artifact can be accessed at [https://github.com/pps-lab/arc/tree/ae_1](https://github.com/pps-lab/arc/tree/ae_1)\n",
    "\n",
    "### Hardware dependencies\n",
    "None\n",
    "\n",
    "### Software dependencies\n",
    "No private software is required for this artifact.\n",
    "\n",
    "This artifact has been tested on Ubuntu and MacOS.\n",
    "The artifact relies on DoE-Suite to install all necessary dependencies on the end-to-end servers.\n",
    "To run DoE-Suite, we require Python 3.9, Poetry, AWS CLI and Make to be installed, which are also highlighted in the installation instructions below. \n",
    "The framework uses Poetry to manage further Python dependencies. \n",
    "The sub-components require additional dependencies, which must be installed manually if you wish to run these components locally (without DoE-Suite). \n",
    "In particular, [mpc-consistency](mpc-consistency) requires Rust to be installed.\n",
    "\n",
    "### Benchmarks\n",
    "No proprietary benchmarks and public datasets are automatically loaded by the build scripts.\n"
   ]
  },
  {
   "cell_type": "markdown",
   "metadata": {},
   "source": [
    "\n",
    "## Set-up\n",
    "We provide a `make` command to run a [JupyterLab environment](artifact.ipynb) to run the experiments and evaluate the artifact.\n",
    "This should ensure that the environment is set up correctly and that the necessary dependencies are installed.\n"
   ]
  },
  {
   "cell_type": "markdown",
   "metadata": {},
   "source": [
    "\n",
    "### Installation\n",
    "We require Python, Poetry and Make to be installed to run the artifact.\n",
    "To get a local copy up and running follow these steps.\n",
    "\n",
    "1. Local clone of the repository (**with submodules!**)\n",
    "    ```sh\n",
    "    git clone --recurse-submodules git@github.com:pps-lab/arc.git\n",
    "    ```\n",
    "   \n",
    "2. Install [Python Poetry](https://python-poetry.org/)\n",
    "    ```sh\n",
    "    curl -sSL https://install.python-poetry.org | python3 -\n",
    "    ```\n",
    "\n",
    "3. Install [Make](https://www.gnu.org/software/make/)\n",
    "\n",
    "4. Install [Install AWS CLI version 2](https://docs.aws.amazon.com/cli/latest/userguide/getting-started-install.html) (to run remote experiments on AWS)\n",
    "\n",
    "#### Environment Variables\n",
    "The [doe-suite](https://github.com/nicolas-kuechler/doe-suite/) requires a few environment variables and should handle\n",
    "the rest of the configuration automatically (including for the Jupyter notebook) using relative paths and poetry.\n",
    "\n",
    "Setup environment variables for the Doe-Suite:\n",
    " ```sh\n",
    " # root project directory (expects the doe-suite-config dir in this folder)\n",
    " export DOES_PROJECT_DIR=<PATH>\n",
    "\n",
    " #  Your unique short name, such as your organization's acronym or your initials.\n",
    " export DOES_PROJECT_ID_SUFFIX=ae\n",
    " ```\n",
    "\n",
    "For AWS EC2:\n",
    " ```sh\n",
    " export DOES_CLOUD=aws\n",
    "\n",
    " # name of ssh key used for setting up access to aws machines (name of key not path)\n",
    " export DOES_SSH_KEY_NAME=id_ec_arc\n",
    " ```\n",
    " `DOES_SSH_KEY_NAME` refers to the key the reviewers have received through artifact evaluation system, for more info see below.\n",
    "\n",
    "> Tip: To make it easier to manage project-specific environment variables, you can use a tool like [Direnv](https://direnv.net/docs/installation.html). Direnv allows you to create project-specific .envrc files that set environment variables when you enter the project directory.\n",
    "With Direnv, the below environment variables would be set in [doe-suite/.envrc](doe-suite/.envrc)\n",
    "\n",
    "\n",
    "#### Setting up AWS\n",
    "Authentication details can be found in the Artifact submission system. This will allow the Artifact reviewers to run the evaluation on the same resources stated in the paper submission. The experiments on AWS are automated with DoE-Suite and can be called from the JupyterLab environment.\n",
    "\n",
    "Reviewers should have received a private key: `id_ec_arc` and AWS credentials\n",
    "1. Move the provided private key `id_ec_arc` to the `.ssh` folder of your home directory (reviewers should have received the key, otherwise contact us).\n",
    "   Ensure the id_ec_arc key has the correct permissions:\n",
    "   ```shell\n",
    "   chmod 600 ~/.ssh/id_ec_arc\n",
    "   ```\n",
    "\n",
    "2. Configure AWS credentials using `aws configure`.\n",
    "   The credentials can be found in the `arc_ac_accessKeys.txt`.\n",
    "   Set `eu-central-1` as the default region.\n",
    "   By default, credentials should be stored in ``~/.aws/credentials``.\n",
    "\n",
    "3. To configure SSH access to AWS EC2 instances, you need to add a section to your ``~/.ssh/config`` file:\n",
    "   ```\n",
    "   Host ec2*\n",
    "      IdentityFile ~/.ssh/id_ec_arc\n",
    "      User ubuntu\n",
    "      ForwardAgent yes\n",
    "      StrictHostKeyChecking no\n",
    "      UserKnownHostsFile=/dev/null\n",
    "   ```\n",
    "\n",
    "For more details on the installation of doe-suite please refer to the [doe-suite documentation](https://nicolas-kuechler.github.io/doe-suite/installation.html#base-installation)\n",
    "and [AWS-specific instructions](https://nicolas-kuechler.github.io/doe-suite/installation.html#aws-specific).\n",
    "\n",
    "\n",
    "#### Running JupyterLab\n",
    "From this point on it is possible to run the Jupyter notebook which contains the experiments and evaluation of the artifact.\n",
    "To launch the Jupyter notebook in the environment with the correct dependencies, we provide a make command.\n",
    "1. Navigate to the `doe-suite` sub-directory and run `make jupyter` which will launch these instructions in the form of a notebook.\n",
    "```shell\n",
    "cd doe-suite\n",
    "make jupyter\n",
    "```\n",
    "2. Run the below cell to check that it prints `Environment loaded successfully`."
   ]
  },
  {
   "cell_type": "code",
   "execution_count": 1,
   "metadata": {
    "tags": []
   },
   "outputs": [
    {
     "name": "stdout",
     "output_type": "stream",
     "text": [
      "Project: /Users/hidde/PhD/auditing/arc\n",
      "env: DOES_PROJECT_DIR=/Users/hidde/PhD/auditing/arc\n",
      "env: DOES_PROJECT_ID_SUFFIX=ae\n",
      "Environment loaded successfully\n"
     ]
    }
   ],
   "source": [
    "import sys\n",
    "import os\n",
    "from ipywidgets import widgets, Layout, HBox, HTML\n",
    "from IPython.display import display, Markdown, HTML, clear_output\n",
    "\n",
    "%load_ext autoreload\n",
    "%autoreload 2\n",
    "\n",
    "path = os.path.abspath(\".\")\n",
    "\n",
    "print(f\"Project: {path}\")\n",
    "\n",
    "%env DOES_PROJECT_DIR=$path\n",
    "%env DOES_PROJECT_ID_SUFFIX=ae\n",
    "\n",
    "does_config_path = os.path.join(os.environ[\"DOES_PROJECT_DIR\"], \"doe-suite-config\")\n",
    "\n",
    "path = os.path.join(does_config_path, \"does_etl_custom\")\n",
    "sys.path.append(path)\n",
    "\n",
    "import doespy.etl.etl_base as etl_base\n",
    "\n",
    "# inspect df\n",
    "if etl_base.ETL_CUSTOM_PACKAGE == \"does\":\n",
    "    print(\"Environment loaded successfully\")"
   ]
  },
  {
   "cell_type": "markdown",
   "metadata": {},
   "source": [
    "\n",
    "\n",
    "If you see any errors, make sure the correct environment variables are set.\n",
    "\n",
    "Our JupyterLab environment contains further documentation, runnable code cells to run benchmarks locally or on AWS (using `!` to run shell commands), and runnable code cells to recreate the plots from the paper.\n",
    "\n",
    "To execute a selected cell, either click on the run button in the toolbar or use `Ctrl + Enter`. To keep the JupyterLab readable, cells containing longer code sections to create plots are initially collapsed (indicated by three dots). However, by clicking on the dots, the cell containing the code expands (`View/Collapse Selected Code` to collapse the code again).\n",
    "\n",
    "**Please ensure that the AWS resources are cleaned up if they are not used in the artifact**\n",
    "If the playbook terminates normally (i.e., without error and is not interrupted), then the playbook ensures that the created resources are also cleaned up.\n",
    "When in doubt, please run the `make clean-cloud` with the command below or contact the authors to avoid unnecessary costs.\n"
   ]
  },
  {
   "cell_type": "code",
   "execution_count": 2,
   "metadata": {},
   "outputs": [
    {
     "name": "stdout",
     "output_type": "stream",
     "text": [
      "CPU times: user 2 µs, sys: 1 µs, total: 3 µs\n",
      "Wall time: 6.2 µs\n"
     ]
    }
   ],
   "source": [
    "%%time\n",
    "# Uncomment and run to terminate all resources on AWS (in case of an error, try to repeat and otherwise contact the authors) \n",
    "\n",
    "# !cd doe-suite && make clean-cloud"
   ]
  },
  {
   "cell_type": "markdown",
   "metadata": {},
   "source": [
    "### Basic Test (AWS, 30 minutes)\n",
    "To test that your local machine is configured properly and that you have access to the AWS resources, you can run the following command (with `doe-suite` as working directory):\n"
   ]
  },
  {
   "cell_type": "code",
   "execution_count": 3,
   "metadata": {},
   "outputs": [],
   "source": [
    "# Copy this command in a separate terminal window in the doe-suite directory:\n",
    "# make run suite=audit_fairness id=new\n",
    "\n",
    "# or uncomment to run\n",
    "# !cd doe-suite && make run suite=audit_fairness id=new"
   ]
  },
  {
   "cell_type": "markdown",
   "metadata": {},
   "source": [
    "which will launch two sets of servers on AWS to reproduce the fairness experiments (Fig. 6, column 1). The command will run the experiments, fetch the results and store them in the `doe-suite-results` folder.\n",
    "> Tip: To debug problems it can be helpful to comment out the line `stdout_callback = community.general.selective` in [doe-suite/ansible.cfg](../doe-suite/ansible.cfg).\n",
    "\n",
    "\n",
    "### Basic Test (Local, 15 minutes)\n",
    "We also provide a `Makefile` in the project's root directory to run scripts locally.\n",
    "For this, we require MP-SPDZ dependencies to be installed, which can be summarized as the following:"
   ]
  },
  {
   "cell_type": "code",
   "execution_count": 4,
   "metadata": {},
   "outputs": [],
   "source": [
    "# Ubuntu (this might try show some prompts, so its good to run this in a real terminal window)\n",
    "# !sudo apt-get install -y automake build-essential clang cmake git libboost-dev libboost-iostreams-dev libboost-thread-dev libgmp-dev libntl-dev libsodium-dev libssl-dev libtool python3 libomp-dev libboost-filesystem-dev\n",
    "\n",
    "# MacOS\n",
    "# !brew install openssl boost libsodium gmp yasm ntl cmake libomp"
   ]
  },
  {
   "cell_type": "markdown",
   "metadata": {},
   "source": [
    "This should install all dependencies necessary for local execution, including the dependencies of MP-SPDZ.\n",
    "We refer to the [MP-SPDZ documentation](https://github.com/data61/MP-SPDZ?tab=readme-ov-file#tldr-source-distribution) for more details on those dependencies.\n",
    "\n",
    "To install the framework's dependencies in the project directory, run:"
   ]
  },
  {
   "cell_type": "code",
   "execution_count": null,
   "metadata": {
    "scrolled": true
   },
   "outputs": [],
   "source": [
    "# in DOES_PROJECT_DIR\n",
    "!make install"
   ]
  },
  {
   "cell_type": "markdown",
   "metadata": {},
   "source": [
    "Note: If you encounter `ld: library not found for -lomp` from the linker, it may help to add the following to `MP-SPDZ/CONFIG.mine`\n",
    "```\n",
    "# These were tested for MacOS\n",
    "MY_CFLAGS += -I/usr/local/opt/openssl/include -I/opt/homebrew/opt/openssl/include -I/opt/homebrew/include -I/usr/local/opt/libomp/include\n",
    "MY_LDLIBS += -L/usr/local/opt/openssl/lib -L/opt/homebrew/lib -L/opt/homebrew/opt/openssl/lib -L/usr/local/opt/libomp/lib\n",
    "```\n",
    "**Datasets** You must store the relevant datasets in the `MP-SPDZ/Player-Data` directory.\n",
    "We provide the datasets from the paper, preprocessed to work with MP-SPDZ,\n",
    "in a public s3 bucket at `http://arc-mpspdz-data.s3.amazonaws.com/{DATASET_NAME}.zip`.\n",
    "Available datasets are: `adult_3p`, `mnist_full_3party`, `cifar_alexnet_3party`.\n",
    "For the QNLI dataset, the identifier is `glue_qnli_bert` but the data will be loaded by the compilation script so there is no need to download it.\n"
   ]
  },
  {
   "cell_type": "code",
   "execution_count": null,
   "metadata": {},
   "outputs": [],
   "source": [
    "!mkdir MP-SPDZ/Player-Data\n",
    "\n",
    "for dataset in ['adult_3p']: #, 'mnist_full_3party', 'cifar_alexnet_3party']:\n",
    "    !wget http://arc-mpspdz-data.s3.amazonaws.com/{dataset}.zip -O {dataset}.zip\n",
    "    !unzip -o {dataset}.zip -d MP-SPDZ/Player-Data/{dataset}"
   ]
  },
  {
   "cell_type": "markdown",
   "metadata": {},
   "source": [
    "Then run one of the tasks with the following command:\n"
   ]
  },
  {
   "cell_type": "code",
   "execution_count": null,
   "metadata": {
    "scrolled": true
   },
   "outputs": [],
   "source": [
    "!poetry run make ring script=inference dataset=adult_3p"
   ]
  },
  {
   "cell_type": "markdown",
   "metadata": {},
   "source": [
    "The framework will compile the script, compile the MP-SPDZ binaries (which will take several minutes) and then run the script.\n",
    "<details>\n",
    "<summary>Expected Output (last 10 lines)</summary>\n",
    "\n",
    "```\n",
    "Time = 0.013872 seconds \n",
    "Time97 = 0.000278 seconds (0 MB, 0 rounds)\n",
    "Time98 = 1e-06 seconds (0 MB, 0 rounds)\n",
    "Time99 = 0.000659 seconds (0.023816 MB, 3 rounds)\n",
    "Time101 = 0.012051 seconds (0.011441 MB, 148 rounds)\n",
    "Data sent = 0.035257 MB in ~151 rounds (party 0 only; use '-v' for more details)\n",
    "Global data sent = 0.058875 MB (all parties)\n",
    "This program might benefit from some protocol options.\n",
    "Consider adding the following at the beginning of your code:\n",
    "        program.use_trunc_pr = True\n",
    "```\n",
    "</details>"
   ]
  },
  {
   "cell_type": "markdown",
   "metadata": {},
   "source": [
    "## Evaluation Workflow\n",
    "\n",
    "We assume that the following steps are followed within the JupyterLab environment.\n",
    "This artifact relies on the [DoE-Suite](https://github.com/nicolas-kuechler/doe-suite) to manage experiment configurations,\n",
    "orchestrate the execution of experiments, collect the results and post-process them into tables and plots.\n",
    "\n",
    "The doe-suite can be run using a set of commands defined in a [Makefile](doe-suite/Makefile) in the `doe-suite` directory that invoke Ansible.\n",
    "Use `make run` to run experiments, from now on referred to as _suites_, that are defined in the [doe-suite-config/designs](doe-suite-config/designs) directory.\n",
    "Results of these experiments are then combined together into plots that are defined in the [doe-suite-config/super_etl](doe-suite-config/super_etl) directory.\n",
    "\n",
    "For each result shown in the paper, we have a separate section that contains:\n",
    "\n",
    "1. Code to create and display the plot shown in the paper and corresponding dataframe based on the output files from the benchmarks (stored in `doe-suite-results-cameraready`).\n",
    "   These files can be downloaded from this polybox:"
   ]
  },
  {
   "cell_type": "code",
   "execution_count": null,
   "metadata": {},
   "outputs": [],
   "source": [
    "!wget https://polybox.ethz.ch/index.php/s/U6mfbqch0pmSg9U/download -O doe-suite-results-cameraready.zip\n",
    "!unzip -o doe-suite-results-cameraready.zip -d ."
   ]
  },
  {
   "cell_type": "markdown",
   "metadata": {},
   "source": [
    "2. The command to reproduce the results on AWS. You can uncomment the command and run the cell with Ctrl + Enter.\n",
    "   Due to the large amount of output and long running time, we recommend to run these commands in a separate terminal window.\n",
    "   The results from these experiments will be stored in `doe-suite-results` and will appear in a separate set of plots in the notebook.\n",
    "\n",
    "   **Note that the shell commands to execute benchmarks are by default commented out. Uncomment to initiate the runs for these benchmarks.** (remove `#` before or `\"\"\"` enclosing the shell command)\n",
    "\n",
    "   JupyterLab code cells are blocking which means that when executing a cell (e.g., run a benchmark), we cannot run another cell until the previous cell finished. As a result, it might be to better for long running commands to copy the shell command (excluding the comment and !) and execute it in a Jupyter terminal.\n",
    "\n",
    "   Finally, while running a benchmark in a cell or a terminal, keep the JupyterLab session open and ensure that the internet connection is stable (for AWS).\n",
    "\n"
   ]
  },
  {
   "cell_type": "code",
   "execution_count": 17,
   "metadata": {},
   "outputs": [
    {
     "data": {
      "text/html": [
       " <a href=\"\", data-commandlinker-command=\"terminal:create-new\" >Open new Terminal</a>"
      ],
      "text/plain": [
       "<IPython.core.display.HTML object>"
      ]
     },
     "metadata": {},
     "output_type": "display_data"
    },
    {
     "data": {
      "text/plain": [
       "'(Opens in `doe-suite-config` directory; commands for doe-suite must be run in the `doe-suite` directory, please run `cd ../doe-suite` in this terminal window)'"
      ]
     },
     "metadata": {},
     "output_type": "display_data"
    }
   ],
   "source": [
    "display(HTML(' <a href=\"\", data-commandlinker-command=\"terminal:create-new\" >Open new Terminal</a>'))\n",
    "display(\"(Opens in `doe-suite-config` directory; commands for doe-suite must be run in the `doe-suite` directory, please run `cd ../doe-suite` in this terminal window)\")"
   ]
  },
  {
   "cell_type": "markdown",
   "metadata": {},
   "source": [
    "\n",
    "### Major Claims\n",
    "- **(C1)**: Arc instantiated with our consistency protocol is up to 10^4x faster and 10^6x more concise than hashing-based (SHA3) and homomorphic commitment-based (PED) approaches.\n",
    "- **(C2)**: Across all settings, Arc significantly outperforms related approaches in terms of runtime, with a storage overhead comparable to the hash-based approach.\n",
    "\n",
    "Both claims are proven by the experiments in Section 6: **Training** (E1, Fig. 4), **Inference** (E2, Fig. 5) and **Auditing** (E3, Fig. 6).\n",
    "\n",
    "### Experiments\n",
    "\n",
    "For each of training, inference and auditing, we provide a table of suites that belong to this setting.\n",
    "Each row contains a rough estimate of the maximum duration of running that suite.\n",
    "This estimate is based on the raw runtimes in the benchmark logs, but the estimation of the overhead of creating and provisioning the machines may not be completely accurate.\n",
    "To run a suite, simply select a suite from the table and invoke doe-suite to run it.\n",
    "We provide an option to run the suite inline, or in a separate terminal window.\n",
    "> Note: The experiments in the WAN setting are particularly time-consuming. As the only difference between the LAN and WAN settings is the network latency (configured using `tc`),\n",
    "we recommend running the LAN version of the suites if the goal is to verify the framework's functionality.\n",
    "\n",
    "> Note: There is a small chance an experiment gets stuck. If the experiment is stuck longer than the estimated time (also indicated by the machines have low CPU and network utilization), please terminate the experiment and try again.\n",
    "\n",
    "> Note: The machine orchestrating the experiments continuously checks if experiments are still running on the remote servers.\n",
    "> Should this lose internet connection, it is possible to resume an existing experiment using `make run suite=<<SUITE_NAME>> id=<<ID>>` where `<<ID>>` refers the experiment id or `last` for the most recent experiment of the suite.\n",
    "\n",
    "### Helper files\n",
    "Please run these cells to ensure that the helper functions to plot the results are loaded."
   ]
  },
  {
   "cell_type": "code",
   "execution_count": 15,
   "metadata": {},
   "outputs": [],
   "source": [
    "from doespy.etl.etl_debug import debug_compute_input_df, debug_super_etl_step, HDict\n",
    "from does_etl_custom.etl.bar_plot_loader import BarPlotLoader\n",
    "from does_etl_custom.etl.sp import ActualDurationLoader\n",
    "\n",
    "def select_exp(exp_list):\n",
    "    w = widgets.Dropdown(\n",
    "        options=exp_list,\n",
    "        value=exp_list[0],\n",
    "        description='Experiment:',\n",
    "        disabled=False,\n",
    "    )\n",
    "    display(Markdown(\"### Available experiments\"))\n",
    "    display(w)\n",
    "    return w\n",
    "\n",
    "def set_result_path(source):\n",
    "    if source == \"paper\":\n",
    "        path = os.environ['DOES_PROJECT_DIR'] + \"/doe-suite-results-cameraready\"\n",
    "    elif source == \"aws\":\n",
    "        path = os.environ['DOES_PROJECT_DIR'] + \"/doe-suite-results\"\n",
    "    else:\n",
    "        raise ValueError(f\"Source {source} invalid.\")\n",
    "    %env DOES_RESULTS_DIR=$path"
   ]
  },
  {
   "cell_type": "code",
   "execution_count": 3,
   "metadata": {},
   "outputs": [],
   "source": [
    "import matplotlib.pyplot as plt\n",
    "import json\n",
    "import ipywidgets as widgets\n",
    "from IPython.display import Javascript\n",
    "from time import time\n",
    "\n",
    "def compute_suite_id_map_available():\n",
    "    results_dir = os.path.join(os.environ['DOES_PROJECT_DIR'], os.environ['DOES_RESULTS_DIR'])\n",
    "    suites = os.listdir(results_dir)\n",
    "    suite_split = [x.rsplit(\"_\", 1) for x in suites]\n",
    "    \n",
    "    # Filter out invalid entries\n",
    "    suite_split = [elem for elem in suite_split if len(elem) == 2 and elem[1].isdigit()]\n",
    "    \n",
    "    # Keep the most recent\n",
    "    d = {}\n",
    "    for suite, idx in suite_split:\n",
    "        idx = int(idx)\n",
    "        if suite not in d or idx > d[suite]:\n",
    "            d[suite] = idx\n",
    "    \n",
    "    return HDict(d)\n",
    "\n",
    "def output(source, super_etl, pipeline, StepCls=BarPlotLoader):\n",
    "    \n",
    "    set_result_path(source.lower())\n",
    "    display(Markdown(f\"#### >> {source} Results\"))\n",
    "        \n",
    "    if source.lower() == \"paper\":\n",
    "        overwrite_suite_id_map = None\n",
    "    else:\n",
    "        overwrite_suite_id_map = compute_suite_id_map_available()\n",
    "\n",
    "    debug_compute_input_df.cache_clear()\n",
    "    df = debug_compute_input_df(super_etl=super_etl, pipeline=pipeline, StepCls=StepCls, overwrite_suite_id_map=overwrite_suite_id_map)\n",
    "\n",
    "    if not df.empty:\n",
    "        res = debug_super_etl_step(super_etl=super_etl, pipeline=pipeline, StepCls=StepCls, df=df)\n",
    "        plt.show()\n",
    "        display(df)    \n",
    "    else:\n",
    "        display(Markdown(\"> **does not exist yet**\"))\n",
    "    \n",
    "    display(Markdown(\"---\"))\n",
    "\n",
    "def copy_text_button(command: str) -> widgets.Widget:\n",
    "    button = widgets.Button(description=f\"Copy Command\", icon=\"copy\")\n",
    "    output = widgets.Output(layout=widgets.Layout(display=\"none\"))\n",
    "    copy_js = Javascript(f\"navigator.clipboard.writeText({json.dumps(command)})\")\n",
    "    \n",
    "    def on_click(_: widgets.Button) -> None:\n",
    "        output.clear_output()\n",
    "        output.append_display_data(copy_js)\n",
    "    button.on_click(on_click)\n",
    "    \n",
    "    print(f\"Experiment command (run in doe-suite dir): `{command}`\")\n",
    "    display(widgets.Box((button, output)))\n"
   ]
  },
  {
   "cell_type": "markdown",
   "metadata": {},
   "source": [
    "### Storage\n",
    "At this point we also copy the storage.csv from the camera-ready benchmarking files to the AWS results folder for convenience.\n",
    "This file contains the storage costs for the client for the different consistency protocols for the training and inference phases.\n",
    "The storage.csv can be recomputed using [notebooks/storage.ipynb](notebooks/storage.ipynb)."
   ]
  },
  {
   "cell_type": "code",
   "execution_count": null,
   "metadata": {},
   "outputs": [],
   "source": [
    "!mkdir -p doe-suite-results\n",
    "!cp doe-suite-results-cameraready/storage.csv doe-suite-results/storage.csv"
   ]
  },
  {
   "cell_type": "markdown",
   "metadata": {},
   "source": [
    "**Output Verbosity**"
   ]
  },
  {
   "cell_type": "code",
   "execution_count": null,
   "metadata": {},
   "outputs": [],
   "source": [
    "# Enable for more verbose log output, disabled by default for conciceness\n",
    "# import logging\n",
    "# logging.basicConfig(level=logging.INFO)"
   ]
  },
  {
   "cell_type": "markdown",
   "metadata": {},
   "source": [
    "\n",
    "### Training\n",
    "The training experiments use the MP-SPDZ training script defined in [training.mpc](scripts/training.mpc) which loads the input, trains the model and then outputs it\n",
    "while ensuring the correct metadata is output for the consistency scripts.\n",
    "The results are postprocessed using the ETL pipeline defined in [train.yml](doe-suite-config/super_etl/train.yml).\n",
    "\n",
    "<details>\n",
    "<summary>Available Suites</summary>\n",
    "\n",
    "| Suite                                                                 | Description                                  | Est. Duration |\n",
    "|-----------------------------------------------------------------------|----------------------------------------------|---------------|\n",
    "| [train_3pc](doe-suite-config/designs/train_3pc.yml)                   | Training for Adult, MNIST and CIFAR-10 (LAN) | 8h            |\n",
    "| [train_3pc_wan](doe-suite-config/designs/train_3pc_wan.yml)           | Training for Adult, MNIST and CIFAR-10 (WAN) | 14h           |\n",
    "| [train_3pc_bert](doe-suite-config/designs/train_3pc_bert.yml)         | Training for QNLI (LAN)                      | 8h            |\n",
    "| [train_3pc_bert_wan](doe-suite-config/designs/train_3pc_bert_wan.yml) | Training for QNLI (WAN)                      | 8h            |\n",
    "\n",
    "</details>"
   ]
  },
  {
   "cell_type": "code",
   "execution_count": null,
   "metadata": {},
   "outputs": [],
   "source": [
    "suite_id = int(time())\n",
    "suite_name=\"<<SUITE_NAME>>\"\n",
    "\n",
    "# Uncomment to run inline\n",
    "# !cd doe-suite-config && ansible-playbook ../doe-suite/src/experiment-suite.yml -e \"suite={suite_name} id=new epoch={suite_id} expfilter=sh\"\n",
    "# clear_output()\n",
    "# print(\"Output cleared for conciceness\")\n",
    "\n",
    "copy_text_button(f\"make run suite={suite_name} id=new\")"
   ]
  },
  {
   "cell_type": "markdown",
   "metadata": {},
   "source": [
    "### Plots"
   ]
  },
  {
   "cell_type": "code",
   "execution_count": 16,
   "metadata": {},
   "outputs": [
    {
     "name": "stdout",
     "output_type": "stream",
     "text": [
      "env: DOES_RESULTS_DIR=/Users/hidde/PhD/auditing/arc/doe-suite-results-cameraready\n",
      "/Users/hidde/PhD/auditing/arc/doe-suite-results-cameraready\n"
     ]
    },
    {
     "data": {
      "text/markdown": [
       "#### >> Paper Results"
      ],
      "text/plain": [
       "<IPython.core.display.Markdown object>"
      ]
     },
     "metadata": {},
     "output_type": "display_data"
    },
    {
     "name": "stdout",
     "output_type": "stream",
     "text": [
      "Filtering our pipelines: {'table', 'raw', 'mnist'}\n"
     ]
    },
    {
     "name": "stderr",
     "output_type": "stream",
     "text": [
      "processing runs of experiment mal: 100%|█████████████████████████████████████████████████████████████████████████████████████████████████████████████████████████████████| 18/18 [00:00<00:00, 21.24it/s]\n",
      "processing runs of experiment sh: 100%|██████████████████████████████████████████████████████████████████████████████████████████████████████████████████████████████████| 18/18 [00:00<00:00, 27.54it/s]\n",
      "processing runs of experiment wan: 100%|█████████████████████████████████████████████████████████████████████████████████████████████████████████████████████████████████| 36/36 [00:01<00:00, 23.18it/s]\n",
      "processing runs of experiment mal: 100%|███████████████████████████████████████████████████████████████████████████████████████████████████████████████████████████████████| 6/6 [00:01<00:00,  5.62it/s]\n",
      "processing runs of experiment sh: 100%|████████████████████████████████████████████████████████████████████████████████████████████████████████████████████████████████████| 6/6 [00:00<00:00,  7.40it/s]\n",
      "processing runs of experiment wan_sh: 100%|████████████████████████████████████████████████████████████████████████████████████████████████████████████████████████████████| 6/6 [00:00<00:00, 12.25it/s]\n"
     ]
    },
    {
     "name": "stdout",
     "output_type": "stream",
     "text": [
      "Config=cfg={'subplots': {'rows': ['$metrics$', 'network_type'], 'cols': ['mpc.script_args.dataset'], 'share_y': 'none'}, 'cols_values_filter': {'mpc.script_name': ['training'], 'suite_name': ['train_3pc', 'train_3pc_wan', 'train_3pc_bert', 'train_3pc_bert_wan'], 'consistency_args.type': ['pc', 'sha3s', 'cerebro'], 'network_type': ['lan', 'wan'], 'host_idx': [0], 'mpc_type': ['sh', 'mal'], 'mpc.script_args.dataset': ['adult', 'cifar_alexnet', 'glue_qnli_bert'], 'mpc.domain': ['ring']}, 'plot_cols': ['suite_name', 'mpc.script_name', 'host_idx', 'mpc.domain', 'network_type', 'mpc.script_args.dataset'], 'group_cols': ['consistency_args.type'], 'bar_cols': ['mpc_type'], 'group_labels': {'cols': ['consistency_args.type'], 'format': '{}'}, 'show_debug_info': False, 'figure_size': [2.5, 1.8], 'bar_width': 1, 'legend_fig': {'format': '{} {}', 'cols': ['mpc_type', '$bar_part_col$'], 'kwargs': {'loc': 'upper center', 'ncol': 4, 'bbox_to_anchor': [0.51, 0.075], 'columnspacing': 3.5, 'fancybox': True}}, 'title': {'format': '{}', 'plot_cols': ['mpc.script_args.dataset']}, 'bar_styles': [{'style': {'label': None, 'edgecolor': 'black'}, 'filter': {'consistency_args.type': ['pc']}}, {'style': {'color': '#D3D3D3', 'edgecolor': 'grey', 'label': None}, 'filter': {'$bar_part_col$': ['storage_train']}}, {'style': {'color': '#d5e1a3', 'edgecolor': 'grey'}, 'filter': {'mpc_type': ['sh'], '$bar_part_col$': ['mpc_time_s', 'global_data_sent_bytes']}}, {'style': {'color': '#e7eec9', 'edgecolor': 'grey'}, 'filter': {'mpc_type': ['sh'], '$bar_part_col$': ['auditing_overhead_s', 'auditing_overhead_bytes']}}, {'style': {'color': '#4c72b0', 'edgecolor': 'grey'}, 'filter': {'mpc_type': ['mal'], '$bar_part_col$': ['mpc_time_s', 'global_data_sent_bytes']}}, {'style': {'color': '#a6b8d8', 'edgecolor': 'grey'}, 'filter': {'mpc_type': ['mal'], '$bar_part_col$': ['auditing_overhead_s', 'auditing_overhead_bytes']}}], 'labels': {'mpc_time_s': '', 'global_data_sent_bytes': '', 'auditing_overhead_s': '(Overhead)', 'auditing_overhead_bytes': '(Overhead)', 'n_rounds': '', 'ring': 'Ring', 'ring_split': 'Ring', 'custom_256': 'Field', 'adult': 'Adult', 'mnist_full': 'MNIST', 'cifar_alexnet': 'Cifar10', 'glue_qnli_bert': 'QNLI', 'pc': '$\\\\bf{Ours}$', 'cerebro': 'PED', 'sha3': 'SHA3', 'sha3s': 'SHA3', 'sh': 'SH', 'mal': 'MAL'}, 'metrics': {'lan_time_all': {'bar_part_cols': ['mpc_time_s', 'auditing_overhead_s'], 'y_unit_divider': 60.0, 'y_label': 'LAN Time [min]', 'y_label_pad': 14, 'plot_cols_filter': {'network_type': ['lan']}, 'y_lim_row': [[0, 20], [0, 16000], [0, 500000]], 'y_lim_dict': [{'selector': {'suite_name': 'train_3pc', 'mpc.script_name': 'training', 'host_idx': '0', 'mpc.domain': 'ring', 'network_type': 'lan', 'mpc.script_args.dataset': 'adult'}, 'value': [0.0, 20.0]}, {'selector': {'suite_name': 'train_3pc', 'mpc.script_name': 'training', 'host_idx': '0', 'mpc.domain': 'ring', 'network_type': 'lan', 'mpc.script_args.dataset': 'cifar_alexnet'}, 'value': [0.0, 16000.0]}, {'selector': {'suite_name': 'train_3pc_bert', 'mpc.script_name': 'training', 'host_idx': '0', 'mpc.domain': 'ring', 'network_type': 'lan', 'mpc.script_args.dataset': 'glue_qnli_bert'}, 'value': [0.0, 500000.0]}], 'n_y_ticks': 5}, 'wan_time': {'bar_part_cols': ['mpc_time_s', 'auditing_overhead_s'], 'y_unit_divider': 3600.0, 'y_label': 'WAN Time [h]', 'y_label_pad': 14, 'plot_cols_filter': {'network_type': ['wan']}, 'bar_cols_filter_last_row': {'mpc_type': ['sh']}, 'bar_pos_bias_last': 0.5, 'y_lim_row': [[0, 80], [0, 80000], [0, 1200000]], 'y_lim_dict': [{'selector': {'suite_name': 'train_3pc_wan', 'mpc.script_name': 'training', 'host_idx': '0', 'mpc.domain': 'ring', 'network_type': 'wan', 'mpc.script_args.dataset': 'adult'}, 'value': [0.0, 80.0]}, {'selector': {'suite_name': 'train_3pc_wan', 'mpc.script_name': 'training', 'host_idx': '0', 'mpc.domain': 'ring', 'network_type': 'wan', 'mpc.script_args.dataset': 'cifar_alexnet'}, 'value': [0.0, 80000.0]}, {'selector': {'suite_name': 'train_3pc_bert_wan', 'mpc.script_name': 'training', 'host_idx': '0', 'mpc.domain': 'ring', 'network_type': 'wan', 'mpc.script_args.dataset': 'glue_qnli_bert'}, 'value': [0.0, 1200000.0]}], 'n_y_ticks': 5}, 'wan_bandwidth': {'bar_part_cols': ['global_data_sent_bytes', 'auditing_overhead_bytes'], 'y_label': 'Bandwidth [TB]', 'y_label_pad': 11, 'y_unit_multiplicator': 1e-12, 'plot_cols_filter': {'network_type': ['lan']}, 'y_lim_row': [[0, 1], [0, 1200], [0, 35000]], 'y_lim_dict': [{'selector': {'suite_name': 'train_3pc', 'mpc.script_name': 'training', 'host_idx': '0', 'mpc.domain': 'ring', 'network_type': 'lan', 'mpc.script_args.dataset': 'adult'}, 'value': [0.0, 1.0]}, {'selector': {'suite_name': 'train_3pc', 'mpc.script_name': 'training', 'host_idx': '0', 'mpc.domain': 'ring', 'network_type': 'lan', 'mpc.script_args.dataset': 'cifar_alexnet'}, 'value': [0.0, 1200.0]}, {'selector': {'suite_name': 'train_3pc_bert', 'mpc.script_name': 'training', 'host_idx': '0', 'mpc.domain': 'ring', 'network_type': 'lan', 'mpc.script_args.dataset': 'glue_qnli_bert'}, 'value': [0.0, 35000.0]}], 'n_y_ticks': 5}, 'storage': {'bar_part_cols': ['storage_train'], 'y_label': 'Storage [Bytes]', 'log_y': True, 'plot_cols_filter': {'network_type': ['lan']}, 'y_ticks': [1000.0, 100000.0, 10000000.0, 1000000000.0, 100000000000.0], 'bar_cols_filter': {'mpc_type': ['sh']}, 'bar_pos_bias': 0.5, 'x_lim': [-0.5399999999999999, 2.54]}}}\n"
     ]
    },
    {
     "data": {
      "image/png": "[encoded data removed]",
      "text/plain": [
       "<Figure size 750x720 with 12 Axes>"
      ]
     },
     "metadata": {},
     "output_type": "display_data"
    },
    {
     "data": {
      "text/html": [
       "<div>\n",
       "<style scoped>\n",
       "    .dataframe tbody tr th:only-of-type {\n",
       "        vertical-align: middle;\n",
       "    }\n",
       "\n",
       "    .dataframe tbody tr th {\n",
       "        vertical-align: top;\n",
       "    }\n",
       "\n",
       "    .dataframe thead th {\n",
       "        text-align: right;\n",
       "    }\n",
       "</style>\n",
       "<table border=\"1\" class=\"dataframe\">\n",
       "  <thead>\n",
       "    <tr style=\"text-align: right;\">\n",
       "      <th></th>\n",
       "      <th>suite_name</th>\n",
       "      <th>exp_name</th>\n",
       "      <th>run</th>\n",
       "      <th>host_idx</th>\n",
       "      <th>mpc.script_name</th>\n",
       "      <th>mpc.domain</th>\n",
       "      <th>mpc.script_args.dataset</th>\n",
       "      <th>mpc_type</th>\n",
       "      <th>network_type</th>\n",
       "      <th>consistency_args.type</th>\n",
       "      <th>...</th>\n",
       "      <th>signature_train</th>\n",
       "      <th>signature_modelowner</th>\n",
       "      <th>signature_computer_train</th>\n",
       "      <th>signature_computer_inference</th>\n",
       "      <th>identity_train</th>\n",
       "      <th>identity_modelowner</th>\n",
       "      <th>identity_computer_train</th>\n",
       "      <th>identity_computer_inference</th>\n",
       "      <th>storage_train</th>\n",
       "      <th>storage_inference</th>\n",
       "    </tr>\n",
       "  </thead>\n",
       "  <tbody>\n",
       "    <tr>\n",
       "      <th>0</th>\n",
       "      <td>train_3pc</td>\n",
       "      <td>mal</td>\n",
       "      <td>1</td>\n",
       "      <td>0</td>\n",
       "      <td>training</td>\n",
       "      <td>ring</td>\n",
       "      <td>adult</td>\n",
       "      <td>mal</td>\n",
       "      <td>lan</td>\n",
       "      <td>sha3s</td>\n",
       "      <td>...</td>\n",
       "      <td>192</td>\n",
       "      <td>64</td>\n",
       "      <td>64</td>\n",
       "      <td>64</td>\n",
       "      <td>96</td>\n",
       "      <td>32</td>\n",
       "      <td>96</td>\n",
       "      <td>96</td>\n",
       "      <td>416</td>\n",
       "      <td>608</td>\n",
       "    </tr>\n",
       "    <tr>\n",
       "      <th>1</th>\n",
       "      <td>train_3pc</td>\n",
       "      <td>mal</td>\n",
       "      <td>1</td>\n",
       "      <td>1</td>\n",
       "      <td>training</td>\n",
       "      <td>ring</td>\n",
       "      <td>adult</td>\n",
       "      <td>mal</td>\n",
       "      <td>lan</td>\n",
       "      <td>sha3s</td>\n",
       "      <td>...</td>\n",
       "      <td>192</td>\n",
       "      <td>64</td>\n",
       "      <td>64</td>\n",
       "      <td>64</td>\n",
       "      <td>96</td>\n",
       "      <td>32</td>\n",
       "      <td>96</td>\n",
       "      <td>96</td>\n",
       "      <td>416</td>\n",
       "      <td>608</td>\n",
       "    </tr>\n",
       "    <tr>\n",
       "      <th>2</th>\n",
       "      <td>train_3pc</td>\n",
       "      <td>mal</td>\n",
       "      <td>1</td>\n",
       "      <td>2</td>\n",
       "      <td>training</td>\n",
       "      <td>ring</td>\n",
       "      <td>adult</td>\n",
       "      <td>mal</td>\n",
       "      <td>lan</td>\n",
       "      <td>sha3s</td>\n",
       "      <td>...</td>\n",
       "      <td>192</td>\n",
       "      <td>64</td>\n",
       "      <td>64</td>\n",
       "      <td>64</td>\n",
       "      <td>96</td>\n",
       "      <td>32</td>\n",
       "      <td>96</td>\n",
       "      <td>96</td>\n",
       "      <td>416</td>\n",
       "      <td>608</td>\n",
       "    </tr>\n",
       "    <tr>\n",
       "      <th>3</th>\n",
       "      <td>train_3pc</td>\n",
       "      <td>sh</td>\n",
       "      <td>1</td>\n",
       "      <td>0</td>\n",
       "      <td>training</td>\n",
       "      <td>ring</td>\n",
       "      <td>adult</td>\n",
       "      <td>sh</td>\n",
       "      <td>lan</td>\n",
       "      <td>sha3s</td>\n",
       "      <td>...</td>\n",
       "      <td>192</td>\n",
       "      <td>64</td>\n",
       "      <td>64</td>\n",
       "      <td>64</td>\n",
       "      <td>96</td>\n",
       "      <td>32</td>\n",
       "      <td>96</td>\n",
       "      <td>96</td>\n",
       "      <td>416</td>\n",
       "      <td>608</td>\n",
       "    </tr>\n",
       "    <tr>\n",
       "      <th>4</th>\n",
       "      <td>train_3pc</td>\n",
       "      <td>sh</td>\n",
       "      <td>1</td>\n",
       "      <td>1</td>\n",
       "      <td>training</td>\n",
       "      <td>ring</td>\n",
       "      <td>adult</td>\n",
       "      <td>sh</td>\n",
       "      <td>lan</td>\n",
       "      <td>sha3s</td>\n",
       "      <td>...</td>\n",
       "      <td>192</td>\n",
       "      <td>64</td>\n",
       "      <td>64</td>\n",
       "      <td>64</td>\n",
       "      <td>96</td>\n",
       "      <td>32</td>\n",
       "      <td>96</td>\n",
       "      <td>96</td>\n",
       "      <td>416</td>\n",
       "      <td>608</td>\n",
       "    </tr>\n",
       "    <tr>\n",
       "      <th>...</th>\n",
       "      <td>...</td>\n",
       "      <td>...</td>\n",
       "      <td>...</td>\n",
       "      <td>...</td>\n",
       "      <td>...</td>\n",
       "      <td>...</td>\n",
       "      <td>...</td>\n",
       "      <td>...</td>\n",
       "      <td>...</td>\n",
       "      <td>...</td>\n",
       "      <td>...</td>\n",
       "      <td>...</td>\n",
       "      <td>...</td>\n",
       "      <td>...</td>\n",
       "      <td>...</td>\n",
       "      <td>...</td>\n",
       "      <td>...</td>\n",
       "      <td>...</td>\n",
       "      <td>...</td>\n",
       "      <td>...</td>\n",
       "      <td>...</td>\n",
       "    </tr>\n",
       "    <tr>\n",
       "      <th>130</th>\n",
       "      <td>train_3pc_bert</td>\n",
       "      <td>sh</td>\n",
       "      <td>5</td>\n",
       "      <td>1</td>\n",
       "      <td>training</td>\n",
       "      <td>ring</td>\n",
       "      <td>glue_qnli_bert</td>\n",
       "      <td>sh</td>\n",
       "      <td>lan</td>\n",
       "      <td>sha3s</td>\n",
       "      <td>...</td>\n",
       "      <td>192</td>\n",
       "      <td>64</td>\n",
       "      <td>64</td>\n",
       "      <td>64</td>\n",
       "      <td>96</td>\n",
       "      <td>32</td>\n",
       "      <td>96</td>\n",
       "      <td>96</td>\n",
       "      <td>416</td>\n",
       "      <td>608</td>\n",
       "    </tr>\n",
       "    <tr>\n",
       "      <th>131</th>\n",
       "      <td>train_3pc_bert</td>\n",
       "      <td>sh</td>\n",
       "      <td>5</td>\n",
       "      <td>2</td>\n",
       "      <td>training</td>\n",
       "      <td>ring</td>\n",
       "      <td>glue_qnli_bert</td>\n",
       "      <td>sh</td>\n",
       "      <td>lan</td>\n",
       "      <td>sha3s</td>\n",
       "      <td>...</td>\n",
       "      <td>192</td>\n",
       "      <td>64</td>\n",
       "      <td>64</td>\n",
       "      <td>64</td>\n",
       "      <td>96</td>\n",
       "      <td>32</td>\n",
       "      <td>96</td>\n",
       "      <td>96</td>\n",
       "      <td>416</td>\n",
       "      <td>608</td>\n",
       "    </tr>\n",
       "    <tr>\n",
       "      <th>132</th>\n",
       "      <td>train_3pc_bert_wan</td>\n",
       "      <td>wan_sh</td>\n",
       "      <td>1</td>\n",
       "      <td>0</td>\n",
       "      <td>training</td>\n",
       "      <td>ring</td>\n",
       "      <td>glue_qnli_bert</td>\n",
       "      <td>sh</td>\n",
       "      <td>wan</td>\n",
       "      <td>sha3s</td>\n",
       "      <td>...</td>\n",
       "      <td>192</td>\n",
       "      <td>64</td>\n",
       "      <td>64</td>\n",
       "      <td>64</td>\n",
       "      <td>96</td>\n",
       "      <td>32</td>\n",
       "      <td>96</td>\n",
       "      <td>96</td>\n",
       "      <td>416</td>\n",
       "      <td>608</td>\n",
       "    </tr>\n",
       "    <tr>\n",
       "      <th>133</th>\n",
       "      <td>train_3pc_bert_wan</td>\n",
       "      <td>wan_sh</td>\n",
       "      <td>1</td>\n",
       "      <td>1</td>\n",
       "      <td>training</td>\n",
       "      <td>ring</td>\n",
       "      <td>glue_qnli_bert</td>\n",
       "      <td>sh</td>\n",
       "      <td>wan</td>\n",
       "      <td>sha3s</td>\n",
       "      <td>...</td>\n",
       "      <td>192</td>\n",
       "      <td>64</td>\n",
       "      <td>64</td>\n",
       "      <td>64</td>\n",
       "      <td>96</td>\n",
       "      <td>32</td>\n",
       "      <td>96</td>\n",
       "      <td>96</td>\n",
       "      <td>416</td>\n",
       "      <td>608</td>\n",
       "    </tr>\n",
       "    <tr>\n",
       "      <th>134</th>\n",
       "      <td>train_3pc_bert_wan</td>\n",
       "      <td>wan_sh</td>\n",
       "      <td>1</td>\n",
       "      <td>2</td>\n",
       "      <td>training</td>\n",
       "      <td>ring</td>\n",
       "      <td>glue_qnli_bert</td>\n",
       "      <td>sh</td>\n",
       "      <td>wan</td>\n",
       "      <td>sha3s</td>\n",
       "      <td>...</td>\n",
       "      <td>192</td>\n",
       "      <td>64</td>\n",
       "      <td>64</td>\n",
       "      <td>64</td>\n",
       "      <td>96</td>\n",
       "      <td>32</td>\n",
       "      <td>96</td>\n",
       "      <td>96</td>\n",
       "      <td>416</td>\n",
       "      <td>608</td>\n",
       "    </tr>\n",
       "  </tbody>\n",
       "</table>\n",
       "<p>135 rows × 40 columns</p>\n",
       "</div>"
      ],
      "text/plain": [
       "             suite_name exp_name  run  host_idx mpc.script_name mpc.domain  \\\n",
       "0             train_3pc      mal    1         0        training       ring   \n",
       "1             train_3pc      mal    1         1        training       ring   \n",
       "2             train_3pc      mal    1         2        training       ring   \n",
       "3             train_3pc       sh    1         0        training       ring   \n",
       "4             train_3pc       sh    1         1        training       ring   \n",
       "..                  ...      ...  ...       ...             ...        ...   \n",
       "130      train_3pc_bert       sh    5         1        training       ring   \n",
       "131      train_3pc_bert       sh    5         2        training       ring   \n",
       "132  train_3pc_bert_wan   wan_sh    1         0        training       ring   \n",
       "133  train_3pc_bert_wan   wan_sh    1         1        training       ring   \n",
       "134  train_3pc_bert_wan   wan_sh    1         2        training       ring   \n",
       "\n",
       "    mpc.script_args.dataset mpc_type network_type consistency_args.type  ...  \\\n",
       "0                     adult      mal          lan                 sha3s  ...   \n",
       "1                     adult      mal          lan                 sha3s  ...   \n",
       "2                     adult      mal          lan                 sha3s  ...   \n",
       "3                     adult       sh          lan                 sha3s  ...   \n",
       "4                     adult       sh          lan                 sha3s  ...   \n",
       "..                      ...      ...          ...                   ...  ...   \n",
       "130          glue_qnli_bert       sh          lan                 sha3s  ...   \n",
       "131          glue_qnli_bert       sh          lan                 sha3s  ...   \n",
       "132          glue_qnli_bert       sh          wan                 sha3s  ...   \n",
       "133          glue_qnli_bert       sh          wan                 sha3s  ...   \n",
       "134          glue_qnli_bert       sh          wan                 sha3s  ...   \n",
       "\n",
       "     signature_train  signature_modelowner  signature_computer_train  \\\n",
       "0                192                    64                        64   \n",
       "1                192                    64                        64   \n",
       "2                192                    64                        64   \n",
       "3                192                    64                        64   \n",
       "4                192                    64                        64   \n",
       "..               ...                   ...                       ...   \n",
       "130              192                    64                        64   \n",
       "131              192                    64                        64   \n",
       "132              192                    64                        64   \n",
       "133              192                    64                        64   \n",
       "134              192                    64                        64   \n",
       "\n",
       "     signature_computer_inference  identity_train  identity_modelowner  \\\n",
       "0                              64              96                   32   \n",
       "1                              64              96                   32   \n",
       "2                              64              96                   32   \n",
       "3                              64              96                   32   \n",
       "4                              64              96                   32   \n",
       "..                            ...             ...                  ...   \n",
       "130                            64              96                   32   \n",
       "131                            64              96                   32   \n",
       "132                            64              96                   32   \n",
       "133                            64              96                   32   \n",
       "134                            64              96                   32   \n",
       "\n",
       "     identity_computer_train  identity_computer_inference  storage_train  \\\n",
       "0                         96                           96            416   \n",
       "1                         96                           96            416   \n",
       "2                         96                           96            416   \n",
       "3                         96                           96            416   \n",
       "4                         96                           96            416   \n",
       "..                       ...                          ...            ...   \n",
       "130                       96                           96            416   \n",
       "131                       96                           96            416   \n",
       "132                       96                           96            416   \n",
       "133                       96                           96            416   \n",
       "134                       96                           96            416   \n",
       "\n",
       "     storage_inference  \n",
       "0                  608  \n",
       "1                  608  \n",
       "2                  608  \n",
       "3                  608  \n",
       "4                  608  \n",
       "..                 ...  \n",
       "130                608  \n",
       "131                608  \n",
       "132                608  \n",
       "133                608  \n",
       "134                608  \n",
       "\n",
       "[135 rows x 40 columns]"
      ]
     },
     "metadata": {},
     "output_type": "display_data"
    },
    {
     "data": {
      "text/markdown": [
       "---"
      ],
      "text/plain": [
       "<IPython.core.display.Markdown object>"
      ]
     },
     "metadata": {},
     "output_type": "display_data"
    },
    {
     "name": "stdout",
     "output_type": "stream",
     "text": [
      "env: DOES_RESULTS_DIR=/Users/hidde/PhD/auditing/arc/doe-suite-results\n",
      "/Users/hidde/PhD/auditing/arc/doe-suite-results\n"
     ]
    },
    {
     "data": {
      "text/markdown": [
       "#### >> AWS Results"
      ],
      "text/plain": [
       "<IPython.core.display.Markdown object>"
      ]
     },
     "metadata": {},
     "output_type": "display_data"
    },
    {
     "name": "stdout",
     "output_type": "stream",
     "text": [
      "Replacing suite id map in super etl design: {'audit_fairness': 1723128427}\n",
      "Filtering our pipelines: {'table', 'raw', 'mnist'}\n"
     ]
    },
    {
     "name": "stderr",
     "output_type": "stream",
     "text": [
      "/Users/hidde/PhD/auditing/arc/doe-suite/doespy/doespy/etl/etl_base.py:180: UserWarning: skip executing pipeline=compare_relatedwork_linear because no experiment data available\n",
      "  warnings.warn(f\"skip executing pipeline={pipeline_name} because no experiment data available\")\n"
     ]
    },
    {
     "data": {
      "text/markdown": [
       "> **does not exist yet**"
      ],
      "text/plain": [
       "<IPython.core.display.Markdown object>"
      ]
     },
     "metadata": {},
     "output_type": "display_data"
    },
    {
     "data": {
      "text/markdown": [
       "---"
      ],
      "text/plain": [
       "<IPython.core.display.Markdown object>"
      ]
     },
     "metadata": {},
     "output_type": "display_data"
    }
   ],
   "source": [
    "\n",
    "for source in [\"Paper\",\"AWS\"]:\n",
    "    output(source, \"train\", \"compare_relatedwork_linear\")\n",
    "    "
   ]
  },
  {
   "cell_type": "markdown",
   "metadata": {},
   "source": [
    "\n",
    "### Inference\n",
    "The inference experiments use the MP-SPDZ inference script defined in [inference.mpc](scripts/inference.mpc).\n",
    "The results are postprocessed using the ETL pipeline defined in [inference.yml](doe-suite-config/super_etl/inference.yml).\n",
    "\n",
    "<details>\n",
    "    <summary>Available Suites</summary>\n",
    "\n",
    "| Suite                                                                         | Description                                                        | Est. Duration |\n",
    "|-------------------------------------------------------------------------------|--------------------------------------------------------------------|------------|\n",
    "| [inference_3pc](doe-suite-config/designs/inference_3pc.yml)                   | Inference for Adult, MNIST and CIFAR-10 (LAN)                      | 2h         |\n",
    "| [inference_3pc_wan](doe-suite-config/designs/inference_3pc_wan.yml)           | Inference for Adult, MNIST and CIFAR-10 (WAN)                      | 6h30m      |\n",
    "| [inference_3pc_bert](doe-suite-config/designs/inference_3pc_bert.yml)         | Inference for QNLI (LAN)                                           | 3h         |\n",
    "| [inference_3pc_bert_wan](doe-suite-config/designs/inference_3pc_bert_wan.yml) | Inference for QNLI (WAN)                                           | 6h         |\n",
    "\n",
    "</details>\n"
   ]
  },
  {
   "cell_type": "code",
   "execution_count": 11,
   "metadata": {
    "scrolled": true
   },
   "outputs": [
    {
     "name": "stdout",
     "output_type": "stream",
     "text": [
      "Experiment command (run in doe-suite dir): `make run suite=<<SUITE_NAME>> id=new`\n"
     ]
    },
    {
     "data": {
      "application/vnd.jupyter.widget-view+json": {
       "model_id": "3b805d56c08848bab15eff0d2ac3e08e",
       "version_major": 2,
       "version_minor": 0
      },
      "text/plain": [
       "Box(children=(Button(description='Copy Command', icon='copy', style=ButtonStyle()), Output(layout=Layout(displ…"
      ]
     },
     "metadata": {},
     "output_type": "display_data"
    }
   ],
   "source": [
    "suite_id = int(time())\n",
    "suite_name=\"<<SUITE_NAME>>\"\n",
    "\n",
    "# Uncomment to run inline\n",
    "# !cd doe-suite-config && ansible-playbook ../doe-suite/src/experiment-suite.yml -e \"suite={suite_name} id=new epoch={suite_id} expfilter=sh\"\n",
    "# clear_output()\n",
    "# print(\"Output cleared for conciceness\")\n",
    "\n",
    "copy_text_button(f\"make run suite={suite_name} id=new\")"
   ]
  },
  {
   "cell_type": "markdown",
   "metadata": {},
   "source": [
    "### Plots"
   ]
  },
  {
   "cell_type": "code",
   "execution_count": 17,
   "metadata": {},
   "outputs": [
    {
     "name": "stdout",
     "output_type": "stream",
     "text": [
      "env: DOES_RESULTS_DIR=/Users/hidde/PhD/auditing/arc/doe-suite-results-cameraready\n",
      "/Users/hidde/PhD/auditing/arc/doe-suite-results-cameraready\n"
     ]
    },
    {
     "data": {
      "text/markdown": [
       "#### >> Paper Results"
      ],
      "text/plain": [
       "<IPython.core.display.Markdown object>"
      ]
     },
     "metadata": {},
     "output_type": "display_data"
    },
    {
     "name": "stdout",
     "output_type": "stream",
     "text": [
      "Filtering our pipelines: {'raw', 'mnist'}\n"
     ]
    },
    {
     "name": "stderr",
     "output_type": "stream",
     "text": [
      "processing runs of experiment sh: 100%|██████████████████████████████████████████████████████████████████████████████████████████████████████████████████████████████████| 18/18 [00:00<00:00, 32.17it/s]\n",
      "processing runs of experiment mal: 100%|█████████████████████████████████████████████████████████████████████████████████████████████████████████████████████████████████| 18/18 [00:00<00:00, 29.58it/s]\n",
      "processing runs of experiment wan: 100%|█████████████████████████████████████████████████████████████████████████████████████████████████████████████████████████████████| 36/36 [00:01<00:00, 31.61it/s]\n",
      "processing runs of experiment sh: 100%|████████████████████████████████████████████████████████████████████████████████████████████████████████████████████████████████████| 6/6 [00:00<00:00, 25.34it/s]\n",
      "processing runs of experiment mal: 100%|███████████████████████████████████████████████████████████████████████████████████████████████████████████████████████████████████| 6/6 [00:00<00:00, 19.34it/s]\n",
      "processing runs of experiment wan: 100%|█████████████████████████████████████████████████████████████████████████████████████████████████████████████████████████████████| 12/12 [00:00<00:00, 22.34it/s]\n"
     ]
    },
    {
     "name": "stdout",
     "output_type": "stream",
     "text": [
      "Config=cfg={'subplots': {'rows': ['$metrics$', 'network_type'], 'cols': ['mpc.script_args.dataset'], 'share_y': 'none'}, 'cols_values_filter': {'mpc.script_name': ['inference'], 'suite_name': ['inference_3pc', 'inference_3pc_wan', 'inference_3pc_bert', 'inference_3pc_bert_wan'], 'host_idx': [0], 'mpc_type': ['sh', 'mal'], 'network_type': ['lan', 'wan'], 'consistency_args.type': ['pc', 'sha3s', 'cerebro'], 'mpc.script_args.dataset': ['adult', 'cifar_alexnet', 'glue_qnli_bert']}, 'plot_cols': ['suite_name', 'mpc.script_name', 'host_idx', 'network_type', 'mpc.script_args.dataset'], 'group_cols': ['consistency_args.type'], 'bar_cols': ['mpc_type'], 'legend_fig': {'format': '{} {}', 'cols': ['mpc_type', '$bar_part_col$'], 'kwargs': {'loc': 'upper center', 'ncol': 4, 'bbox_to_anchor': [0.51, 0.075], 'columnspacing': 3.5, 'fancybox': True}}, 'bar_styles': [{'style': {'label': None, 'edgecolor': 'black'}, 'filter': {'consistency_args.type': ['pc']}}, {'style': {'color': '#D3D3D3', 'edgecolor': 'grey', 'label': None}, 'filter': {'$bar_part_col$': ['storage_inference']}}, {'style': {'color': '#d5e1a3', 'edgecolor': 'grey'}, 'filter': {'mpc_type': ['sh'], '$bar_part_col$': ['mpc_time_s', 'global_data_sent_bytes']}}, {'style': {'color': '#e7eec9', 'edgecolor': 'grey'}, 'filter': {'mpc_type': ['sh'], '$bar_part_col$': ['auditing_overhead_s', 'auditing_overhead_bytes']}}, {'style': {'color': '#4c72b0', 'edgecolor': 'grey'}, 'filter': {'mpc_type': ['mal'], '$bar_part_col$': ['mpc_time_s', 'global_data_sent_bytes']}}, {'style': {'color': '#a6b8d8', 'edgecolor': 'grey'}, 'filter': {'mpc_type': ['mal'], '$bar_part_col$': ['auditing_overhead_s', 'auditing_overhead_bytes']}}], 'group_labels': {'cols': ['consistency_args.type'], 'format': '{}'}, 'title': {'format': '{}', 'plot_cols': ['mpc.script_args.dataset']}, 'labels': {'mpc_time_s': '', 'global_data_sent_bytes': '', 'auditing_overhead_s': '(Overhead)', 'auditing_overhead_bytes': '(Overhead)', 'n_rounds': '', 'ring_split': 'Ring', 'field_128': 'Field-S', 'custom_256': 'Field-L', 'adult': 'Adult', 'mnist_full': 'MNIST', 'cifar_alexnet': 'Cifar10', 'glue_qnli_bert': 'QNLI', 'pc': '$\\\\bf{Ours}$', 'cerebro': 'PED', 'sha3': 'SHA3', 'sha3s': 'SHA3', 'sh': 'SH', 'mal': 'MAL', 'storage_inference': 'storage'}, 'figure_size': [2.5, 1.8], 'bar_width': 1, 'show_debug_info': False, 'metrics': {'lan_time': {'bar_part_cols': ['mpc_time_s', 'auditing_overhead_s'], 'y_label': 'LAN Time [sec]', 'y_label_pad': 13.4, 'plot_cols_filter': {'network_type': ['lan']}, 'y_lim_row': [[0, 48], [0, 1400], [0, 28000]], 'y_lim_dict': [{'selector': {'suite_name': 'inference_3pc', 'mpc.script_name': 'inference', 'host_idx': '0', 'network_type': 'lan', 'mpc.script_args.dataset': 'adult'}, 'value': [0.0, 48.0]}, {'selector': {'suite_name': 'inference_3pc', 'mpc.script_name': 'inference', 'host_idx': '0', 'network_type': 'lan', 'mpc.script_args.dataset': 'cifar_alexnet'}, 'value': [0.0, 1400.0]}, {'selector': {'suite_name': 'inference_3pc_bert', 'mpc.script_name': 'inference', 'host_idx': '0', 'network_type': 'lan', 'mpc.script_args.dataset': 'glue_qnli_bert'}, 'value': [0.0, 28000.0]}], 'n_y_ticks': 5}, 'wan_time': {'bar_part_cols': ['mpc_time_s', 'auditing_overhead_s'], 'y_label': 'WAN Time [min]', 'y_label_pad': 8, 'y_unit_divider': 60, 'plot_cols_filter': {'network_type': ['wan']}, 'y_lim_row': [[0, 300], [0, 4000], [0, 120000]], 'y_lim_dict': [{'selector': {'suite_name': 'inference_3pc_wan', 'mpc.script_name': 'inference', 'host_idx': '0', 'network_type': 'wan', 'mpc.script_args.dataset': 'adult'}, 'value': [0.0, 300.0]}, {'selector': {'suite_name': 'inference_3pc_wan', 'mpc.script_name': 'inference', 'host_idx': '0', 'network_type': 'wan', 'mpc.script_args.dataset': 'cifar_alexnet'}, 'value': [0.0, 4000.0]}, {'selector': {'suite_name': 'inference_3pc_bert_wan', 'mpc.script_name': 'inference', 'host_idx': '0', 'network_type': 'wan', 'mpc.script_args.dataset': 'glue_qnli_bert'}, 'value': [0.0, 120000.0]}], 'n_y_ticks': 5}, 'wan_bandwidth': {'bar_part_cols': ['global_data_sent_bytes', 'auditing_overhead_bytes'], 'y_label': 'Bandwidth [GB]', 'y_label_pad': 13.4, 'y_unit_multiplicator': 1e-09, 'plot_cols_filter': {'network_type': ['wan']}, 'y_lim_row': [[0, 28], [0, 1000], [0, 32000]], 'y_lim_dict': [{'selector': {'suite_name': 'inference_3pc_wan', 'mpc.script_name': 'inference', 'host_idx': '0', 'network_type': 'wan', 'mpc.script_args.dataset': 'adult'}, 'value': [0.0, 28.0]}, {'selector': {'suite_name': 'inference_3pc_wan', 'mpc.script_name': 'inference', 'host_idx': '0', 'network_type': 'wan', 'mpc.script_args.dataset': 'cifar_alexnet'}, 'value': [0.0, 1000.0]}, {'selector': {'suite_name': 'inference_3pc_bert_wan', 'mpc.script_name': 'inference', 'host_idx': '0', 'network_type': 'wan', 'mpc.script_args.dataset': 'glue_qnli_bert'}, 'value': [0.0, 32000.0]}], 'n_y_ticks': 5}, 'storage': {'bar_part_cols': ['storage_inference'], 'y_label': 'Storage [Bytes]', 'plot_cols_filter': {'network_type': ['lan']}, 'log_y': True, 'bar_cols_filter': {'mpc_type': ['sh']}, 'bar_pos_bias': 0.5, 'x_lim': [-0.5399999999999999, 2.54], 'y_ticks': [1000.0, 100000.0, 10000000.0, 1000000000.0, 100000000000.0]}}}\n"
     ]
    },
    {
     "data": {
      "image/png": "[encoded data removed]",
      "text/plain": [
       "<Figure size 750x720 with 12 Axes>"
      ]
     },
     "metadata": {},
     "output_type": "display_data"
    },
    {
     "data": {
      "text/html": [
       "<div>\n",
       "<style scoped>\n",
       "    .dataframe tbody tr th:only-of-type {\n",
       "        vertical-align: middle;\n",
       "    }\n",
       "\n",
       "    .dataframe tbody tr th {\n",
       "        vertical-align: top;\n",
       "    }\n",
       "\n",
       "    .dataframe thead th {\n",
       "        text-align: right;\n",
       "    }\n",
       "</style>\n",
       "<table border=\"1\" class=\"dataframe\">\n",
       "  <thead>\n",
       "    <tr style=\"text-align: right;\">\n",
       "      <th></th>\n",
       "      <th>suite_name</th>\n",
       "      <th>run</th>\n",
       "      <th>host_idx</th>\n",
       "      <th>exp_name</th>\n",
       "      <th>mpc.script_name</th>\n",
       "      <th>mpc.protocol_setup</th>\n",
       "      <th>mpc.domain</th>\n",
       "      <th>mpc.script_args.dataset</th>\n",
       "      <th>network_type</th>\n",
       "      <th>mpc_type</th>\n",
       "      <th>...</th>\n",
       "      <th>signature_train</th>\n",
       "      <th>signature_modelowner</th>\n",
       "      <th>signature_computer_train</th>\n",
       "      <th>signature_computer_inference</th>\n",
       "      <th>identity_train</th>\n",
       "      <th>identity_modelowner</th>\n",
       "      <th>identity_computer_train</th>\n",
       "      <th>identity_computer_inference</th>\n",
       "      <th>storage_train</th>\n",
       "      <th>storage_inference</th>\n",
       "    </tr>\n",
       "  </thead>\n",
       "  <tbody>\n",
       "    <tr>\n",
       "      <th>0</th>\n",
       "      <td>inference_3pc</td>\n",
       "      <td>1</td>\n",
       "      <td>0</td>\n",
       "      <td>mal</td>\n",
       "      <td>inference</td>\n",
       "      <td>sy-rep-ring-party</td>\n",
       "      <td>ring_split</td>\n",
       "      <td>adult</td>\n",
       "      <td>lan</td>\n",
       "      <td>mal</td>\n",
       "      <td>...</td>\n",
       "      <td>192</td>\n",
       "      <td>64</td>\n",
       "      <td>64</td>\n",
       "      <td>64</td>\n",
       "      <td>96</td>\n",
       "      <td>32</td>\n",
       "      <td>96</td>\n",
       "      <td>96</td>\n",
       "      <td>416</td>\n",
       "      <td>608</td>\n",
       "    </tr>\n",
       "    <tr>\n",
       "      <th>1</th>\n",
       "      <td>inference_3pc</td>\n",
       "      <td>1</td>\n",
       "      <td>0</td>\n",
       "      <td>sh</td>\n",
       "      <td>inference</td>\n",
       "      <td>semi_honest_3</td>\n",
       "      <td>ring_split</td>\n",
       "      <td>adult</td>\n",
       "      <td>lan</td>\n",
       "      <td>sh</td>\n",
       "      <td>...</td>\n",
       "      <td>192</td>\n",
       "      <td>64</td>\n",
       "      <td>64</td>\n",
       "      <td>64</td>\n",
       "      <td>96</td>\n",
       "      <td>32</td>\n",
       "      <td>96</td>\n",
       "      <td>96</td>\n",
       "      <td>416</td>\n",
       "      <td>608</td>\n",
       "    </tr>\n",
       "    <tr>\n",
       "      <th>2</th>\n",
       "      <td>inference_3pc</td>\n",
       "      <td>1</td>\n",
       "      <td>1</td>\n",
       "      <td>mal</td>\n",
       "      <td>inference</td>\n",
       "      <td>sy-rep-ring-party</td>\n",
       "      <td>ring_split</td>\n",
       "      <td>adult</td>\n",
       "      <td>lan</td>\n",
       "      <td>mal</td>\n",
       "      <td>...</td>\n",
       "      <td>192</td>\n",
       "      <td>64</td>\n",
       "      <td>64</td>\n",
       "      <td>64</td>\n",
       "      <td>96</td>\n",
       "      <td>32</td>\n",
       "      <td>96</td>\n",
       "      <td>96</td>\n",
       "      <td>416</td>\n",
       "      <td>608</td>\n",
       "    </tr>\n",
       "    <tr>\n",
       "      <th>3</th>\n",
       "      <td>inference_3pc</td>\n",
       "      <td>1</td>\n",
       "      <td>1</td>\n",
       "      <td>sh</td>\n",
       "      <td>inference</td>\n",
       "      <td>semi_honest_3</td>\n",
       "      <td>ring_split</td>\n",
       "      <td>adult</td>\n",
       "      <td>lan</td>\n",
       "      <td>sh</td>\n",
       "      <td>...</td>\n",
       "      <td>192</td>\n",
       "      <td>64</td>\n",
       "      <td>64</td>\n",
       "      <td>64</td>\n",
       "      <td>96</td>\n",
       "      <td>32</td>\n",
       "      <td>96</td>\n",
       "      <td>96</td>\n",
       "      <td>416</td>\n",
       "      <td>608</td>\n",
       "    </tr>\n",
       "    <tr>\n",
       "      <th>4</th>\n",
       "      <td>inference_3pc</td>\n",
       "      <td>1</td>\n",
       "      <td>2</td>\n",
       "      <td>mal</td>\n",
       "      <td>inference</td>\n",
       "      <td>sy-rep-ring-party</td>\n",
       "      <td>ring_split</td>\n",
       "      <td>adult</td>\n",
       "      <td>lan</td>\n",
       "      <td>mal</td>\n",
       "      <td>...</td>\n",
       "      <td>192</td>\n",
       "      <td>64</td>\n",
       "      <td>64</td>\n",
       "      <td>64</td>\n",
       "      <td>96</td>\n",
       "      <td>32</td>\n",
       "      <td>96</td>\n",
       "      <td>96</td>\n",
       "      <td>416</td>\n",
       "      <td>608</td>\n",
       "    </tr>\n",
       "    <tr>\n",
       "      <th>...</th>\n",
       "      <td>...</td>\n",
       "      <td>...</td>\n",
       "      <td>...</td>\n",
       "      <td>...</td>\n",
       "      <td>...</td>\n",
       "      <td>...</td>\n",
       "      <td>...</td>\n",
       "      <td>...</td>\n",
       "      <td>...</td>\n",
       "      <td>...</td>\n",
       "      <td>...</td>\n",
       "      <td>...</td>\n",
       "      <td>...</td>\n",
       "      <td>...</td>\n",
       "      <td>...</td>\n",
       "      <td>...</td>\n",
       "      <td>...</td>\n",
       "      <td>...</td>\n",
       "      <td>...</td>\n",
       "      <td>...</td>\n",
       "      <td>...</td>\n",
       "    </tr>\n",
       "    <tr>\n",
       "      <th>139</th>\n",
       "      <td>inference_3pc_bert_wan</td>\n",
       "      <td>1</td>\n",
       "      <td>1</td>\n",
       "      <td>wan</td>\n",
       "      <td>inference</td>\n",
       "      <td>semi_honest_3</td>\n",
       "      <td>ring_split</td>\n",
       "      <td>glue_qnli_bert</td>\n",
       "      <td>wan</td>\n",
       "      <td>sh</td>\n",
       "      <td>...</td>\n",
       "      <td>192</td>\n",
       "      <td>64</td>\n",
       "      <td>64</td>\n",
       "      <td>64</td>\n",
       "      <td>96</td>\n",
       "      <td>32</td>\n",
       "      <td>96</td>\n",
       "      <td>96</td>\n",
       "      <td>496</td>\n",
       "      <td>720</td>\n",
       "    </tr>\n",
       "    <tr>\n",
       "      <th>140</th>\n",
       "      <td>inference_3pc_bert_wan</td>\n",
       "      <td>1</td>\n",
       "      <td>2</td>\n",
       "      <td>wan</td>\n",
       "      <td>inference</td>\n",
       "      <td>semi_honest_3</td>\n",
       "      <td>ring_split</td>\n",
       "      <td>glue_qnli_bert</td>\n",
       "      <td>wan</td>\n",
       "      <td>sh</td>\n",
       "      <td>...</td>\n",
       "      <td>192</td>\n",
       "      <td>64</td>\n",
       "      <td>64</td>\n",
       "      <td>64</td>\n",
       "      <td>96</td>\n",
       "      <td>32</td>\n",
       "      <td>96</td>\n",
       "      <td>96</td>\n",
       "      <td>496</td>\n",
       "      <td>720</td>\n",
       "    </tr>\n",
       "    <tr>\n",
       "      <th>141</th>\n",
       "      <td>inference_3pc_bert_wan</td>\n",
       "      <td>7</td>\n",
       "      <td>0</td>\n",
       "      <td>wan</td>\n",
       "      <td>inference</td>\n",
       "      <td>sy-rep-ring-party</td>\n",
       "      <td>ring_split</td>\n",
       "      <td>glue_qnli_bert</td>\n",
       "      <td>wan</td>\n",
       "      <td>mal</td>\n",
       "      <td>...</td>\n",
       "      <td>192</td>\n",
       "      <td>64</td>\n",
       "      <td>64</td>\n",
       "      <td>64</td>\n",
       "      <td>96</td>\n",
       "      <td>32</td>\n",
       "      <td>96</td>\n",
       "      <td>96</td>\n",
       "      <td>496</td>\n",
       "      <td>720</td>\n",
       "    </tr>\n",
       "    <tr>\n",
       "      <th>142</th>\n",
       "      <td>inference_3pc_bert_wan</td>\n",
       "      <td>7</td>\n",
       "      <td>1</td>\n",
       "      <td>wan</td>\n",
       "      <td>inference</td>\n",
       "      <td>sy-rep-ring-party</td>\n",
       "      <td>ring_split</td>\n",
       "      <td>glue_qnli_bert</td>\n",
       "      <td>wan</td>\n",
       "      <td>mal</td>\n",
       "      <td>...</td>\n",
       "      <td>192</td>\n",
       "      <td>64</td>\n",
       "      <td>64</td>\n",
       "      <td>64</td>\n",
       "      <td>96</td>\n",
       "      <td>32</td>\n",
       "      <td>96</td>\n",
       "      <td>96</td>\n",
       "      <td>496</td>\n",
       "      <td>720</td>\n",
       "    </tr>\n",
       "    <tr>\n",
       "      <th>143</th>\n",
       "      <td>inference_3pc_bert_wan</td>\n",
       "      <td>7</td>\n",
       "      <td>2</td>\n",
       "      <td>wan</td>\n",
       "      <td>inference</td>\n",
       "      <td>sy-rep-ring-party</td>\n",
       "      <td>ring_split</td>\n",
       "      <td>glue_qnli_bert</td>\n",
       "      <td>wan</td>\n",
       "      <td>mal</td>\n",
       "      <td>...</td>\n",
       "      <td>192</td>\n",
       "      <td>64</td>\n",
       "      <td>64</td>\n",
       "      <td>64</td>\n",
       "      <td>96</td>\n",
       "      <td>32</td>\n",
       "      <td>96</td>\n",
       "      <td>96</td>\n",
       "      <td>496</td>\n",
       "      <td>720</td>\n",
       "    </tr>\n",
       "  </tbody>\n",
       "</table>\n",
       "<p>144 rows × 44 columns</p>\n",
       "</div>"
      ],
      "text/plain": [
       "                 suite_name  run  host_idx exp_name mpc.script_name  \\\n",
       "0             inference_3pc    1         0      mal       inference   \n",
       "1             inference_3pc    1         0       sh       inference   \n",
       "2             inference_3pc    1         1      mal       inference   \n",
       "3             inference_3pc    1         1       sh       inference   \n",
       "4             inference_3pc    1         2      mal       inference   \n",
       "..                      ...  ...       ...      ...             ...   \n",
       "139  inference_3pc_bert_wan    1         1      wan       inference   \n",
       "140  inference_3pc_bert_wan    1         2      wan       inference   \n",
       "141  inference_3pc_bert_wan    7         0      wan       inference   \n",
       "142  inference_3pc_bert_wan    7         1      wan       inference   \n",
       "143  inference_3pc_bert_wan    7         2      wan       inference   \n",
       "\n",
       "    mpc.protocol_setup  mpc.domain mpc.script_args.dataset network_type  \\\n",
       "0    sy-rep-ring-party  ring_split                   adult          lan   \n",
       "1        semi_honest_3  ring_split                   adult          lan   \n",
       "2    sy-rep-ring-party  ring_split                   adult          lan   \n",
       "3        semi_honest_3  ring_split                   adult          lan   \n",
       "4    sy-rep-ring-party  ring_split                   adult          lan   \n",
       "..                 ...         ...                     ...          ...   \n",
       "139      semi_honest_3  ring_split          glue_qnli_bert          wan   \n",
       "140      semi_honest_3  ring_split          glue_qnli_bert          wan   \n",
       "141  sy-rep-ring-party  ring_split          glue_qnli_bert          wan   \n",
       "142  sy-rep-ring-party  ring_split          glue_qnli_bert          wan   \n",
       "143  sy-rep-ring-party  ring_split          glue_qnli_bert          wan   \n",
       "\n",
       "    mpc_type  ... signature_train  signature_modelowner  \\\n",
       "0        mal  ...             192                    64   \n",
       "1         sh  ...             192                    64   \n",
       "2        mal  ...             192                    64   \n",
       "3         sh  ...             192                    64   \n",
       "4        mal  ...             192                    64   \n",
       "..       ...  ...             ...                   ...   \n",
       "139       sh  ...             192                    64   \n",
       "140       sh  ...             192                    64   \n",
       "141      mal  ...             192                    64   \n",
       "142      mal  ...             192                    64   \n",
       "143      mal  ...             192                    64   \n",
       "\n",
       "     signature_computer_train  signature_computer_inference  identity_train  \\\n",
       "0                          64                            64              96   \n",
       "1                          64                            64              96   \n",
       "2                          64                            64              96   \n",
       "3                          64                            64              96   \n",
       "4                          64                            64              96   \n",
       "..                        ...                           ...             ...   \n",
       "139                        64                            64              96   \n",
       "140                        64                            64              96   \n",
       "141                        64                            64              96   \n",
       "142                        64                            64              96   \n",
       "143                        64                            64              96   \n",
       "\n",
       "     identity_modelowner  identity_computer_train  \\\n",
       "0                     32                       96   \n",
       "1                     32                       96   \n",
       "2                     32                       96   \n",
       "3                     32                       96   \n",
       "4                     32                       96   \n",
       "..                   ...                      ...   \n",
       "139                   32                       96   \n",
       "140                   32                       96   \n",
       "141                   32                       96   \n",
       "142                   32                       96   \n",
       "143                   32                       96   \n",
       "\n",
       "     identity_computer_inference  storage_train  storage_inference  \n",
       "0                             96            416                608  \n",
       "1                             96            416                608  \n",
       "2                             96            416                608  \n",
       "3                             96            416                608  \n",
       "4                             96            416                608  \n",
       "..                           ...            ...                ...  \n",
       "139                           96            496                720  \n",
       "140                           96            496                720  \n",
       "141                           96            496                720  \n",
       "142                           96            496                720  \n",
       "143                           96            496                720  \n",
       "\n",
       "[144 rows x 44 columns]"
      ]
     },
     "metadata": {},
     "output_type": "display_data"
    },
    {
     "data": {
      "text/markdown": [
       "---"
      ],
      "text/plain": [
       "<IPython.core.display.Markdown object>"
      ]
     },
     "metadata": {},
     "output_type": "display_data"
    },
    {
     "name": "stdout",
     "output_type": "stream",
     "text": [
      "env: DOES_RESULTS_DIR=/Users/hidde/PhD/auditing/arc/doe-suite-results\n",
      "/Users/hidde/PhD/auditing/arc/doe-suite-results\n"
     ]
    },
    {
     "data": {
      "text/markdown": [
       "#### >> AWS Results"
      ],
      "text/plain": [
       "<IPython.core.display.Markdown object>"
      ]
     },
     "metadata": {},
     "output_type": "display_data"
    },
    {
     "name": "stdout",
     "output_type": "stream",
     "text": [
      "Replacing suite id map in super etl design: {'audit_fairness': 1723128427}\n",
      "Filtering our pipelines: {'raw', 'mnist'}\n"
     ]
    },
    {
     "name": "stderr",
     "output_type": "stream",
     "text": [
      "/Users/hidde/PhD/auditing/arc/doe-suite/doespy/doespy/etl/etl_base.py:180: UserWarning: skip executing pipeline=compare_relatedwork_linear because no experiment data available\n",
      "  warnings.warn(f\"skip executing pipeline={pipeline_name} because no experiment data available\")\n"
     ]
    },
    {
     "data": {
      "text/markdown": [
       "> **does not exist yet**"
      ],
      "text/plain": [
       "<IPython.core.display.Markdown object>"
      ]
     },
     "metadata": {},
     "output_type": "display_data"
    },
    {
     "data": {
      "text/markdown": [
       "---"
      ],
      "text/plain": [
       "<IPython.core.display.Markdown object>"
      ]
     },
     "metadata": {},
     "output_type": "display_data"
    }
   ],
   "source": [
    "\n",
    "for source in [\"Paper\",\"AWS\"]:\n",
    "    output(source, \"inference\", \"compare_relatedwork_linear\")\n"
   ]
  },
  {
   "cell_type": "markdown",
   "metadata": {},
   "source": [
    "\n",
    "\n",
    "### Auditing\n",
    "The inference experiments use the MP-SPDZ scripts for auditing defined in [scripts](scripts), starting with `audit_`.\n",
    "The results are postprocessed using the ETL pipeline defined in [audit.yml](doe-suite-config/super_etl/audit.yml).\n",
    "\n",
    "15:04 start\n",
    "\n",
    "The following experiments are available to run:\n",
    "<details>\n",
    "    <summary>Available Suites</summary>\n",
    "\n",
    "| Suite                                                                               | Description                                                        | Est. Duration |\n",
    "|-------------------------------------------------------------------------------------|--------------------------------------------------------------------|---------------|\n",
    "| [audit_robustness](doe-suite-config/designs/audit_robustness.yml)                   | Robustness function (Sec. 5.1) for Adult, MNIST and CIFAR-10 (LAN) | 2h            |\n",
    "| [audit_robustness_wan](doe-suite-config/designs/audit_robustness_wan.yml)           | Robustness function (Sec. 5.1) for Adult, MNIST and CIFAR-10 (WAN) | 6h            |\n",
    "| [audit_knnshapley](doe-suite-config/designs/audit_knnshapley.yml)                   | KNNShapley function (Sec. 5.2) for Adult, MNIST and CIFAR-10 (LAN) | 6h            |\n",
    "| [audit_knnshapley_wan](doe-suite-config/designs/audit_knnshapley_wan.yml)           | KNNShapley function (Sec. 5.2) for Adult, MNIST and CIFAR-10 (WAN) | 17h           |\n",
    "| [audit_fairness](doe-suite-config/designs/audit_fairness.yml)                       | Fairness function (Sec 5.1) for Adult, MNIST, and CIFAR-10 (LAN)   | 30m           |\n",
    "| [audit_fairness_wan](doe-suite-config/designs/audit_fairness_wan.yml)               | Fairness function (Sec 5.1) for Adult, MNIST, and CIFAR-10 (WAN)   | 2h40m         |\n",
    "| [audit_shap](doe-suite-config/designs/audit_shap.yml)                               | SHAP function (Sec. 5.3) for Adult, MNIST, and CIFAR-10 (LAN)      | 2h            |\n",
    "| [audit_shap_wan](doe-suite-config/designs/audit_shap_wan.yml)                       | SHAP function (Sec. 5.3) for Adult, MNIST, and CIFAR-10 (WAN)      | 8h            |\n",
    "| [audit_knnshapley_bert](doe-suite-config/designs/audit_knnshapley_bert.yml)         | KNNShapley function (Sec. 5.2) for QNLI (Semi-honest, LAN)         | 4h            |\n",
    "| [audit_knnshapley_bert_mal](doe-suite-config/designs/audit_knnshapley_bert_mal.yml) | KNNShapley function (Sec. 5.2) for QNLI (Malicious, LAN)           | 6h            |\n",
    "| [audit_knnshapley_bert_wan](doe-suite-config/designs/audit_knnshapley_bert_wan.yml) | KNNShapley function (Sec. 5.2) for QNLI (Semi-honest, WAN)         | 2h            |\n",
    "\n",
    "</details>\n"
   ]
  },
  {
   "cell_type": "code",
   "execution_count": 13,
   "metadata": {},
   "outputs": [
    {
     "name": "stdout",
     "output_type": "stream",
     "text": [
      "Experiment command (run in doe-suite dir): `make run suite=<<SUITE_NAME>> id=new`\n"
     ]
    },
    {
     "data": {
      "application/vnd.jupyter.widget-view+json": {
       "model_id": "d0c28e55ddf64961841d815ca73f22e1",
       "version_major": 2,
       "version_minor": 0
      },
      "text/plain": [
       "Box(children=(Button(description='Copy Command', icon='copy', style=ButtonStyle()), Output(layout=Layout(displ…"
      ]
     },
     "metadata": {},
     "output_type": "display_data"
    }
   ],
   "source": [
    "suite_id = int(time())\n",
    "suite_name=\"<<SUITE_NAME>>\"\n",
    "\n",
    "# Uncomment to run inline\n",
    "# !cd doe-suite-config && ansible-playbook ../doe-suite/src/experiment-suite.yml -e \"suite={suite_name} id=new epoch={suite_id} expfilter=sh\"\n",
    "# clear_output()\n",
    "# print(\"Output cleared for conciceness\")\n",
    "\n",
    "copy_text_button(f\"make run suite={suite_name} id=new\")"
   ]
  },
  {
   "cell_type": "markdown",
   "metadata": {},
   "source": [
    "### Plots"
   ]
  },
  {
   "cell_type": "code",
   "execution_count": 18,
   "metadata": {},
   "outputs": [
    {
     "name": "stdout",
     "output_type": "stream",
     "text": [
      "env: DOES_RESULTS_DIR=/Users/hidde/PhD/auditing/arc/doe-suite-results-cameraready\n",
      "/Users/hidde/PhD/auditing/arc/doe-suite-results-cameraready\n"
     ]
    },
    {
     "data": {
      "text/markdown": [
       "#### >> Paper Results"
      ],
      "text/plain": [
       "<IPython.core.display.Markdown object>"
      ]
     },
     "metadata": {},
     "output_type": "display_data"
    },
    {
     "name": "stdout",
     "output_type": "stream",
     "text": [
      "Filtering our pipelines: {'mnist'}\n"
     ]
    },
    {
     "name": "stderr",
     "output_type": "stream",
     "text": [
      "processing runs of experiment audit_robustness_3pc: 100%|████████████████████████████████████████████████████████████████████████████████████████████████████████████████| 36/36 [00:00<00:00, 36.02it/s]\n",
      "processing runs of experiment audit_robustness_3pc_wan: 100%|████████████████████████████████████████████████████████████████████████████████████████████████████████████| 36/36 [00:00<00:00, 36.88it/s]\n",
      "processing runs of experiment audit_sample_knnshapley: 100%|█████████████████████████████████████████████████████████████████████████████████████████████████████████████| 36/36 [00:01<00:00, 25.86it/s]\n",
      "processing runs of experiment audit_sample_knnshapley_wan: 100%|█████████████████████████████████████████████████████████████████████████████████████████████████████████| 36/36 [00:01<00:00, 26.48it/s]\n",
      "processing runs of experiment audit_fairness_3pc: 100%|██████████████████████████████████████████████████████████████████████████████████████████████████████████████████| 12/12 [00:00<00:00, 34.96it/s]\n",
      "processing runs of experiment audit_fairness_3pc_wan: 100%|██████████████████████████████████████████████████████████████████████████████████████████████████████████████| 12/12 [00:00<00:00, 38.69it/s]\n",
      "processing runs of experiment audit_shap: 100%|██████████████████████████████████████████████████████████████████████████████████████████████████████████████████████████| 12/12 [00:00<00:00, 35.38it/s]\n",
      "processing runs of experiment audit_shap_wan: 100%|██████████████████████████████████████████████████████████████████████████████████████████████████████████████████████| 12/12 [00:00<00:00, 37.26it/s]\n",
      "processing runs of experiment audit_sample_knnshapley: 100%|███████████████████████████████████████████████████████████████████████████████████████████████████████████████| 6/6 [00:00<00:00, 17.10it/s]\n",
      "processing runs of experiment audit_sample_knnshapley_wan_mal: 100%|███████████████████████████████████████████████████████████████████████████████████████████████████████| 1/1 [00:00<00:00, 37.48it/s]\n",
      "processing runs of experiment audit_sample_knnshapley_wan_sh: 100%|████████████████████████████████████████████████████████████████████████████████████████████████████████| 6/6 [00:00<00:00, 18.37it/s]\n",
      "processing runs of experiment audit_sample_knnshapley: 100%|███████████████████████████████████████████████████████████████████████████████████████████████████████████████| 6/6 [00:00<00:00, 17.58it/s]\n"
     ]
    },
    {
     "name": "stdout",
     "output_type": "stream",
     "text": [
      "Config=cfg={'subplots': {'rows': ['$metrics$', 'network_type'], 'cols': ['mpc.script_name', 'mpc.script_args.dataset'], 'share_y': 'none'}, 'cols_values_filter': {'mpc.script_name': ['audit_fairness', 'audit_robustness', 'audit_prediction_shap', 'audit_sample_knnshapley'], 'consistency_args.type': ['pc', 'sha3s', 'cerebro'], 'mpc_type': ['sh', 'mal'], 'host_idx': [0], 'mpc.protocol_setup': ['semi_honest_3', 'sy-rep-ring-party'], 'mpc.script_args.round_nearest': [False], 'mpc.script_args.dataset': ['adult', 'cifar_alexnet', 'glue_qnli_bert'], 'mpc.domain': ['ring_split'], 'network_type': ['lan', 'wan']}, 'plot_cols': ['host_idx', 'mpc.script_name', 'mpc.script_args.dataset', 'network_type'], 'group_cols': ['consistency_args.type'], 'bar_cols': ['mpc_type'], 'bar_styles': [{'style': {'label': None, 'edgecolor': 'black'}, 'filter': {'consistency_args.type': ['pc']}}, {'style': {'color': '#d5e1a3', 'edgecolor': 'grey'}, 'filter': {'mpc_type': ['sh'], '$bar_part_col$': ['mpc_time_s', 'global_data_sent_bytes']}}, {'style': {'color': '#e7eec9', 'edgecolor': 'grey'}, 'filter': {'mpc_type': ['sh'], '$bar_part_col$': ['auditing_overhead_s', 'auditing_overhead_bytes']}}, {'style': {'color': '#4c72b0', 'edgecolor': 'grey'}, 'filter': {'mpc_type': ['mal'], '$bar_part_col$': ['mpc_time_s', 'global_data_sent_bytes']}}, {'style': {'color': '#a6b8d8', 'edgecolor': 'grey'}, 'filter': {'mpc_type': ['mal'], '$bar_part_col$': ['auditing_overhead_s', 'auditing_overhead_bytes']}}], 'legend_fig': {'format': '{} {}', 'cols': ['mpc_type', '$bar_part_col$'], 'kwargs': {'loc': 'upper center', 'ncol': 4, 'bbox_to_anchor': [0.51, 0.075], 'columnspacing': 3.5, 'fancybox': True}}, 'title': {'format': '{} ({})', 'plot_cols': ['mpc.script_name', 'mpc.script_args.dataset']}, 'group_labels': {'cols': ['consistency_args.type'], 'format': '{}'}, 'figure_size': [2.5, 1.8], 'bar_width': 1.0, 'labels': {'mpc_time_s': '', 'global_data_sent_bytes': '', 'auditing_overhead_s': 'Overhead', 'auditing_overhead_bytes': 'Overhead', 'n_rounds': '', 'ring': 'Ring', 'ring_split': 'Ring', 'custom_256': 'Field', 'audit_sample_knnshapley': '$\\\\bf{KNNShapley}$', 'audit_robustness': '$\\\\bf{Robustness}$', 'audit_prediction_shap': '$\\\\bf{SHAP}$', 'audit_fairness': '$\\\\bf{Fairness}$', 'adult': 'Adult', 'mnist_full': 'MNIST', 'cifar_alexnet': 'C10', 'glue_qnli_bert': 'QNLI', 'pc': '$\\\\bf{Ours}$', 'cerebro': 'PED', 'sha3': 'SHA3', 'sha3s': 'SHA3', 'sh': 'SH', 'mal': 'MAL'}, 'show_debug_info': False, 'metrics': {'lan_time': {'bar_part_cols': ['mpc_time_s', 'auditing_overhead_s'], 'y_unit_divider': 60.0, 'y_label': 'LAN Time [min]', 'y_lim_row': [[0, 1], [0, 1], [0, 32], [0, 32], [0, 20], [0, 1000], [0, 12000]], 'y_lim_dict': [{'selector': {'host_idx': '0', 'mpc.script_name': 'audit_fairness', 'mpc.script_args.dataset': 'adult', 'network_type': 'lan'}, 'value': [0.0, 1.0]}, {'selector': {'host_idx': '0', 'mpc.script_name': 'audit_robustness', 'mpc.script_args.dataset': 'adult', 'network_type': 'lan'}, 'value': [0.0, 1.0]}, {'selector': {'host_idx': '0', 'mpc.script_name': 'audit_robustness', 'mpc.script_args.dataset': 'cifar_alexnet', 'network_type': 'lan'}, 'value': [0.0, 32.0]}, {'selector': {'host_idx': '0', 'mpc.script_name': 'audit_prediction_shap', 'mpc.script_args.dataset': 'adult', 'network_type': 'lan'}, 'value': [0.0, 32.0]}, {'selector': {'host_idx': '0', 'mpc.script_name': 'audit_sample_knnshapley', 'mpc.script_args.dataset': 'adult', 'network_type': 'lan'}, 'value': [0.0, 20.0]}, {'selector': {'host_idx': '0', 'mpc.script_name': 'audit_sample_knnshapley', 'mpc.script_args.dataset': 'cifar_alexnet', 'network_type': 'lan'}, 'value': [0.0, 1000.0]}, {'selector': {'host_idx': '0', 'mpc.script_name': 'audit_sample_knnshapley', 'mpc.script_args.dataset': 'glue_qnli_bert', 'network_type': 'lan'}, 'value': [0.0, 12000.0]}], 'n_y_ticks': 5, 'plot_cols_filter': {'network_type': ['lan']}}, 'wan_time': {'bar_part_cols': ['mpc_time_s', 'auditing_overhead_s'], 'y_unit_divider': 3600.0, 'y_label': 'WAN Time [h]', 'n_y_ticks': 5, 'y_lim_row': [[0, 2.4], [0, 2.4], [0, 40], [0, 60], [0, 40], [0, 1600], [0, 4000]], 'y_lim_dict': [{'selector': {'host_idx': '0', 'mpc.script_name': 'audit_fairness', 'mpc.script_args.dataset': 'adult', 'network_type': 'wan'}, 'value': [0.0, 2.4]}, {'selector': {'host_idx': '0', 'mpc.script_name': 'audit_robustness', 'mpc.script_args.dataset': 'adult', 'network_type': 'wan'}, 'value': [0.0, 2.4]}, {'selector': {'host_idx': '0', 'mpc.script_name': 'audit_robustness', 'mpc.script_args.dataset': 'cifar_alexnet', 'network_type': 'wan'}, 'value': [0.0, 40.0]}, {'selector': {'host_idx': '0', 'mpc.script_name': 'audit_prediction_shap', 'mpc.script_args.dataset': 'adult', 'network_type': 'wan'}, 'value': [0.0, 60.0]}, {'selector': {'host_idx': '0', 'mpc.script_name': 'audit_sample_knnshapley', 'mpc.script_args.dataset': 'adult', 'network_type': 'wan'}, 'value': [0.0, 40.0]}, {'selector': {'host_idx': '0', 'mpc.script_name': 'audit_sample_knnshapley', 'mpc.script_args.dataset': 'cifar_alexnet', 'network_type': 'wan'}, 'value': [0.0, 1600.0]}, {'selector': {'host_idx': '0', 'mpc.script_name': 'audit_sample_knnshapley', 'mpc.script_args.dataset': 'glue_qnli_bert', 'network_type': 'wan'}, 'value': [0.0, 4000.0]}], 'bar_cols_filter_last_row': {'mpc_type': ['sh']}, 'bar_pos_bias_last': 0.5, 'bar_cols_filter_last_row_num': 6, 'plot_cols_filter': {'network_type': ['wan']}}, 'wan_bandwidth': {'bar_part_cols': ['global_data_sent_bytes', 'auditing_overhead_bytes'], 'y_label': 'Bandwidth [GB]', 'y_unit_multiplicator': 1e-09, 'plot_cols_filter': {'network_type': ['lan']}, 'n_y_ticks': 5, 'y_lim_row': [[0, 1.6], [0, 1.6], [0, 500], [0, 500], [0, 500], [0, 20000], [0, 500000]], 'y_lim_dict': [{'selector': {'host_idx': '0', 'mpc.script_name': 'audit_fairness', 'mpc.script_args.dataset': 'adult', 'network_type': 'lan'}, 'value': [0.0, 1.6]}, {'selector': {'host_idx': '0', 'mpc.script_name': 'audit_robustness', 'mpc.script_args.dataset': 'adult', 'network_type': 'lan'}, 'value': [0.0, 1.6]}, {'selector': {'host_idx': '0', 'mpc.script_name': 'audit_robustness', 'mpc.script_args.dataset': 'cifar_alexnet', 'network_type': 'lan'}, 'value': [0.0, 500.0]}, {'selector': {'host_idx': '0', 'mpc.script_name': 'audit_prediction_shap', 'mpc.script_args.dataset': 'adult', 'network_type': 'lan'}, 'value': [0.0, 500.0]}, {'selector': {'host_idx': '0', 'mpc.script_name': 'audit_sample_knnshapley', 'mpc.script_args.dataset': 'adult', 'network_type': 'lan'}, 'value': [0.0, 500.0]}, {'selector': {'host_idx': '0', 'mpc.script_name': 'audit_sample_knnshapley', 'mpc.script_args.dataset': 'cifar_alexnet', 'network_type': 'lan'}, 'value': [0.0, 20000.0]}, {'selector': {'host_idx': '0', 'mpc.script_name': 'audit_sample_knnshapley', 'mpc.script_args.dataset': 'glue_qnli_bert', 'network_type': 'lan'}, 'value': [0.0, 500000.0]}]}}}\n"
     ]
    },
    {
     "data": {
      "image/png": "[encoded data removed]",
      "text/plain": [
       "<Figure size 1750x540 with 21 Axes>"
      ]
     },
     "metadata": {},
     "output_type": "display_data"
    },
    {
     "data": {
      "text/html": [
       "<div>\n",
       "<style scoped>\n",
       "    .dataframe tbody tr th:only-of-type {\n",
       "        vertical-align: middle;\n",
       "    }\n",
       "\n",
       "    .dataframe tbody tr th {\n",
       "        vertical-align: top;\n",
       "    }\n",
       "\n",
       "    .dataframe thead th {\n",
       "        text-align: right;\n",
       "    }\n",
       "</style>\n",
       "<table border=\"1\" class=\"dataframe\">\n",
       "  <thead>\n",
       "    <tr style=\"text-align: right;\">\n",
       "      <th></th>\n",
       "      <th>suite_name</th>\n",
       "      <th>run</th>\n",
       "      <th>host_idx</th>\n",
       "      <th>exp_name</th>\n",
       "      <th>mpc.script_name</th>\n",
       "      <th>mpc_type</th>\n",
       "      <th>network_type</th>\n",
       "      <th>mpc.protocol_setup</th>\n",
       "      <th>mpc.domain</th>\n",
       "      <th>mpc.script_args.dataset</th>\n",
       "      <th>consistency_args.type</th>\n",
       "      <th>mpc_time_s</th>\n",
       "      <th>auditing_overhead_s</th>\n",
       "      <th>auditing_overhead_bytes</th>\n",
       "      <th>global_data_sent_bytes</th>\n",
       "      <th>n_rounds</th>\n",
       "    </tr>\n",
       "  </thead>\n",
       "  <tbody>\n",
       "    <tr>\n",
       "      <th>0</th>\n",
       "      <td>audit_fairness</td>\n",
       "      <td>1</td>\n",
       "      <td>0</td>\n",
       "      <td>audit_fairness_3pc</td>\n",
       "      <td>audit_fairness</td>\n",
       "      <td>sh</td>\n",
       "      <td>lan</td>\n",
       "      <td>semi_honest_3</td>\n",
       "      <td>ring_split</td>\n",
       "      <td>adult</td>\n",
       "      <td>sha3s</td>\n",
       "      <td>0.521717</td>\n",
       "      <td>0.959701</td>\n",
       "      <td>15796590</td>\n",
       "      <td>4.797955e+07</td>\n",
       "      <td>48662</td>\n",
       "    </tr>\n",
       "    <tr>\n",
       "      <th>1</th>\n",
       "      <td>audit_fairness</td>\n",
       "      <td>1</td>\n",
       "      <td>1</td>\n",
       "      <td>audit_fairness_3pc</td>\n",
       "      <td>audit_fairness</td>\n",
       "      <td>sh</td>\n",
       "      <td>lan</td>\n",
       "      <td>semi_honest_3</td>\n",
       "      <td>ring_split</td>\n",
       "      <td>adult</td>\n",
       "      <td>sha3s</td>\n",
       "      <td>0.521365</td>\n",
       "      <td>0.959700</td>\n",
       "      <td>15796590</td>\n",
       "      <td>4.797955e+07</td>\n",
       "      <td>48568</td>\n",
       "    </tr>\n",
       "    <tr>\n",
       "      <th>2</th>\n",
       "      <td>audit_fairness</td>\n",
       "      <td>1</td>\n",
       "      <td>2</td>\n",
       "      <td>audit_fairness_3pc</td>\n",
       "      <td>audit_fairness</td>\n",
       "      <td>sh</td>\n",
       "      <td>lan</td>\n",
       "      <td>semi_honest_3</td>\n",
       "      <td>ring_split</td>\n",
       "      <td>adult</td>\n",
       "      <td>sha3s</td>\n",
       "      <td>0.521787</td>\n",
       "      <td>0.959701</td>\n",
       "      <td>15796590</td>\n",
       "      <td>4.797955e+07</td>\n",
       "      <td>48662</td>\n",
       "    </tr>\n",
       "    <tr>\n",
       "      <th>3</th>\n",
       "      <td>audit_fairness</td>\n",
       "      <td>3</td>\n",
       "      <td>0</td>\n",
       "      <td>audit_fairness_3pc</td>\n",
       "      <td>audit_fairness</td>\n",
       "      <td>sh</td>\n",
       "      <td>lan</td>\n",
       "      <td>semi_honest_3</td>\n",
       "      <td>ring_split</td>\n",
       "      <td>adult</td>\n",
       "      <td>cerebro</td>\n",
       "      <td>0.523981</td>\n",
       "      <td>20.494855</td>\n",
       "      <td>20636466</td>\n",
       "      <td>4.797955e+07</td>\n",
       "      <td>48662</td>\n",
       "    </tr>\n",
       "    <tr>\n",
       "      <th>4</th>\n",
       "      <td>audit_fairness</td>\n",
       "      <td>3</td>\n",
       "      <td>1</td>\n",
       "      <td>audit_fairness_3pc</td>\n",
       "      <td>audit_fairness</td>\n",
       "      <td>sh</td>\n",
       "      <td>lan</td>\n",
       "      <td>semi_honest_3</td>\n",
       "      <td>ring_split</td>\n",
       "      <td>adult</td>\n",
       "      <td>cerebro</td>\n",
       "      <td>0.523636</td>\n",
       "      <td>20.495391</td>\n",
       "      <td>20636466</td>\n",
       "      <td>4.797955e+07</td>\n",
       "      <td>48568</td>\n",
       "    </tr>\n",
       "    <tr>\n",
       "      <th>...</th>\n",
       "      <td>...</td>\n",
       "      <td>...</td>\n",
       "      <td>...</td>\n",
       "      <td>...</td>\n",
       "      <td>...</td>\n",
       "      <td>...</td>\n",
       "      <td>...</td>\n",
       "      <td>...</td>\n",
       "      <td>...</td>\n",
       "      <td>...</td>\n",
       "      <td>...</td>\n",
       "      <td>...</td>\n",
       "      <td>...</td>\n",
       "      <td>...</td>\n",
       "      <td>...</td>\n",
       "      <td>...</td>\n",
       "    </tr>\n",
       "    <tr>\n",
       "      <th>310</th>\n",
       "      <td>audit_shap_wan</td>\n",
       "      <td>9</td>\n",
       "      <td>1</td>\n",
       "      <td>audit_shap_wan</td>\n",
       "      <td>audit_prediction_shap</td>\n",
       "      <td>mal</td>\n",
       "      <td>wan</td>\n",
       "      <td>sy-rep-ring-party</td>\n",
       "      <td>ring_split</td>\n",
       "      <td>adult</td>\n",
       "      <td>cerebro</td>\n",
       "      <td>110664.670200</td>\n",
       "      <td>14532.338098</td>\n",
       "      <td>17307370032</td>\n",
       "      <td>1.525852e+11</td>\n",
       "      <td>2600157</td>\n",
       "    </tr>\n",
       "    <tr>\n",
       "      <th>311</th>\n",
       "      <td>audit_shap_wan</td>\n",
       "      <td>9</td>\n",
       "      <td>2</td>\n",
       "      <td>audit_shap_wan</td>\n",
       "      <td>audit_prediction_shap</td>\n",
       "      <td>mal</td>\n",
       "      <td>wan</td>\n",
       "      <td>sy-rep-ring-party</td>\n",
       "      <td>ring_split</td>\n",
       "      <td>adult</td>\n",
       "      <td>cerebro</td>\n",
       "      <td>110664.670700</td>\n",
       "      <td>14532.335602</td>\n",
       "      <td>17307370032</td>\n",
       "      <td>1.525852e+11</td>\n",
       "      <td>2600158</td>\n",
       "    </tr>\n",
       "    <tr>\n",
       "      <th>312</th>\n",
       "      <td>audit_shap_wan</td>\n",
       "      <td>11</td>\n",
       "      <td>0</td>\n",
       "      <td>audit_shap_wan</td>\n",
       "      <td>audit_prediction_shap</td>\n",
       "      <td>mal</td>\n",
       "      <td>wan</td>\n",
       "      <td>sy-rep-ring-party</td>\n",
       "      <td>ring_split</td>\n",
       "      <td>adult</td>\n",
       "      <td>pc</td>\n",
       "      <td>110684.839800</td>\n",
       "      <td>112.566969</td>\n",
       "      <td>15641754206</td>\n",
       "      <td>1.525852e+11</td>\n",
       "      <td>2600158</td>\n",
       "    </tr>\n",
       "    <tr>\n",
       "      <th>313</th>\n",
       "      <td>audit_shap_wan</td>\n",
       "      <td>11</td>\n",
       "      <td>1</td>\n",
       "      <td>audit_shap_wan</td>\n",
       "      <td>audit_prediction_shap</td>\n",
       "      <td>mal</td>\n",
       "      <td>wan</td>\n",
       "      <td>sy-rep-ring-party</td>\n",
       "      <td>ring_split</td>\n",
       "      <td>adult</td>\n",
       "      <td>pc</td>\n",
       "      <td>110684.800200</td>\n",
       "      <td>112.345216</td>\n",
       "      <td>15641754206</td>\n",
       "      <td>1.525852e+11</td>\n",
       "      <td>2600157</td>\n",
       "    </tr>\n",
       "    <tr>\n",
       "      <th>314</th>\n",
       "      <td>audit_shap_wan</td>\n",
       "      <td>11</td>\n",
       "      <td>2</td>\n",
       "      <td>audit_shap_wan</td>\n",
       "      <td>audit_prediction_shap</td>\n",
       "      <td>mal</td>\n",
       "      <td>wan</td>\n",
       "      <td>sy-rep-ring-party</td>\n",
       "      <td>ring_split</td>\n",
       "      <td>adult</td>\n",
       "      <td>pc</td>\n",
       "      <td>110684.800400</td>\n",
       "      <td>112.384597</td>\n",
       "      <td>15641754206</td>\n",
       "      <td>1.525852e+11</td>\n",
       "      <td>2600158</td>\n",
       "    </tr>\n",
       "  </tbody>\n",
       "</table>\n",
       "<p>315 rows × 16 columns</p>\n",
       "</div>"
      ],
      "text/plain": [
       "         suite_name  run  host_idx            exp_name        mpc.script_name  \\\n",
       "0    audit_fairness    1         0  audit_fairness_3pc         audit_fairness   \n",
       "1    audit_fairness    1         1  audit_fairness_3pc         audit_fairness   \n",
       "2    audit_fairness    1         2  audit_fairness_3pc         audit_fairness   \n",
       "3    audit_fairness    3         0  audit_fairness_3pc         audit_fairness   \n",
       "4    audit_fairness    3         1  audit_fairness_3pc         audit_fairness   \n",
       "..              ...  ...       ...                 ...                    ...   \n",
       "310  audit_shap_wan    9         1      audit_shap_wan  audit_prediction_shap   \n",
       "311  audit_shap_wan    9         2      audit_shap_wan  audit_prediction_shap   \n",
       "312  audit_shap_wan   11         0      audit_shap_wan  audit_prediction_shap   \n",
       "313  audit_shap_wan   11         1      audit_shap_wan  audit_prediction_shap   \n",
       "314  audit_shap_wan   11         2      audit_shap_wan  audit_prediction_shap   \n",
       "\n",
       "    mpc_type network_type mpc.protocol_setup  mpc.domain  \\\n",
       "0         sh          lan      semi_honest_3  ring_split   \n",
       "1         sh          lan      semi_honest_3  ring_split   \n",
       "2         sh          lan      semi_honest_3  ring_split   \n",
       "3         sh          lan      semi_honest_3  ring_split   \n",
       "4         sh          lan      semi_honest_3  ring_split   \n",
       "..       ...          ...                ...         ...   \n",
       "310      mal          wan  sy-rep-ring-party  ring_split   \n",
       "311      mal          wan  sy-rep-ring-party  ring_split   \n",
       "312      mal          wan  sy-rep-ring-party  ring_split   \n",
       "313      mal          wan  sy-rep-ring-party  ring_split   \n",
       "314      mal          wan  sy-rep-ring-party  ring_split   \n",
       "\n",
       "    mpc.script_args.dataset consistency_args.type     mpc_time_s  \\\n",
       "0                     adult                 sha3s       0.521717   \n",
       "1                     adult                 sha3s       0.521365   \n",
       "2                     adult                 sha3s       0.521787   \n",
       "3                     adult               cerebro       0.523981   \n",
       "4                     adult               cerebro       0.523636   \n",
       "..                      ...                   ...            ...   \n",
       "310                   adult               cerebro  110664.670200   \n",
       "311                   adult               cerebro  110664.670700   \n",
       "312                   adult                    pc  110684.839800   \n",
       "313                   adult                    pc  110684.800200   \n",
       "314                   adult                    pc  110684.800400   \n",
       "\n",
       "     auditing_overhead_s  auditing_overhead_bytes  global_data_sent_bytes  \\\n",
       "0               0.959701                 15796590            4.797955e+07   \n",
       "1               0.959700                 15796590            4.797955e+07   \n",
       "2               0.959701                 15796590            4.797955e+07   \n",
       "3              20.494855                 20636466            4.797955e+07   \n",
       "4              20.495391                 20636466            4.797955e+07   \n",
       "..                   ...                      ...                     ...   \n",
       "310         14532.338098              17307370032            1.525852e+11   \n",
       "311         14532.335602              17307370032            1.525852e+11   \n",
       "312           112.566969              15641754206            1.525852e+11   \n",
       "313           112.345216              15641754206            1.525852e+11   \n",
       "314           112.384597              15641754206            1.525852e+11   \n",
       "\n",
       "     n_rounds  \n",
       "0       48662  \n",
       "1       48568  \n",
       "2       48662  \n",
       "3       48662  \n",
       "4       48568  \n",
       "..        ...  \n",
       "310   2600157  \n",
       "311   2600158  \n",
       "312   2600158  \n",
       "313   2600157  \n",
       "314   2600158  \n",
       "\n",
       "[315 rows x 16 columns]"
      ]
     },
     "metadata": {},
     "output_type": "display_data"
    },
    {
     "data": {
      "text/markdown": [
       "---"
      ],
      "text/plain": [
       "<IPython.core.display.Markdown object>"
      ]
     },
     "metadata": {},
     "output_type": "display_data"
    },
    {
     "name": "stdout",
     "output_type": "stream",
     "text": [
      "env: DOES_RESULTS_DIR=/Users/hidde/PhD/auditing/arc/doe-suite-results\n",
      "/Users/hidde/PhD/auditing/arc/doe-suite-results\n"
     ]
    },
    {
     "data": {
      "text/markdown": [
       "#### >> AWS Results"
      ],
      "text/plain": [
       "<IPython.core.display.Markdown object>"
      ]
     },
     "metadata": {},
     "output_type": "display_data"
    },
    {
     "name": "stdout",
     "output_type": "stream",
     "text": [
      "Replacing suite id map in super etl design: {'audit_fairness': 1723128427}\n",
      "Filtering our pipelines: {'mnist'}\n"
     ]
    },
    {
     "name": "stderr",
     "output_type": "stream",
     "text": [
      "/Users/hidde/PhD/auditing/arc/doe-suite/doespy/doespy/etl/etl_base.py:180: UserWarning: skip executing pipeline=compare_relatedwork because no experiment data available\n",
      "  warnings.warn(f\"skip executing pipeline={pipeline_name} because no experiment data available\")\n"
     ]
    },
    {
     "data": {
      "text/markdown": [
       "> **does not exist yet**"
      ],
      "text/plain": [
       "<IPython.core.display.Markdown object>"
      ]
     },
     "metadata": {},
     "output_type": "display_data"
    },
    {
     "data": {
      "text/markdown": [
       "---"
      ],
      "text/plain": [
       "<IPython.core.display.Markdown object>"
      ]
     },
     "metadata": {},
     "output_type": "display_data"
    }
   ],
   "source": [
    "\n",
    "for source in [\"Paper\",\"AWS\"]:\n",
    "    output(source, \"audit\", \"compare_relatedwork\")\n",
    "    "
   ]
  },
  {
   "cell_type": "markdown",
   "metadata": {},
   "source": [
    "### Storage Overhead\n",
    "We compute the storage costs for Fig. 4 & Fig. 5 using [storage.ipynb](notebooks/storage.ipynb)\n",
    "which stores the result in a csv in `doe-suite-results` which is loaded by the pipeline.\n"
   ]
  },
  {
   "cell_type": "markdown",
   "metadata": {},
   "source": [
    "## MNIST (Appendix, Extended Version)\n",
    "The MNIST experiments are part of the training, inference and auditing suites, but are displayed in a separate plot in the appendix of the extended version due to space reasons. Therefore, we have a separate ETL pipeline for these results."
   ]
  },
  {
   "cell_type": "code",
   "execution_count": null,
   "metadata": {},
   "outputs": [],
   "source": [
    "suite_id = int(time())\n",
    "suite_name=\"<<SUITE_NAME>>\"\n",
    "\n",
    "# Uncomment to run inline\n",
    "# !cd doe-suite-config && ansible-playbook ../doe-suite/src/experiment-suite.yml -e \"suite={suite_name} id=new epoch={suite_id} expfilter=sh\"\n",
    "# clear_output()\n",
    "# print(\"Output cleared for conciceness\")\n",
    "\n",
    "copy_text_button(f\"make run suite={suite_name} id=new\")"
   ]
  },
  {
   "cell_type": "code",
   "execution_count": null,
   "metadata": {
    "tags": []
   },
   "outputs": [],
   "source": [
    "for source in [\"Paper\",\"AWS\"]:\n",
    "    output(source, \"train\", \"mnist\")"
   ]
  },
  {
   "cell_type": "code",
   "execution_count": null,
   "metadata": {},
   "outputs": [],
   "source": [
    "for source in [\"Paper\",\"AWS\"]:\n",
    "    output(source, \"inference\", \"mnist\")"
   ]
  },
  {
   "cell_type": "code",
   "execution_count": null,
   "metadata": {},
   "outputs": [],
   "source": [
    "for source in [\"Paper\",\"AWS\"]:\n",
    "    output(source, \"audit\", \"mnist\")"
   ]
  },
  {
   "cell_type": "code",
   "execution_count": null,
   "metadata": {},
   "outputs": [],
   "source": []
  }
 ],
 "metadata": {
  "kernelspec": {
   "display_name": "Python 3 (ipykernel)",
   "language": "python",
   "name": "python3"
  },
  "language_info": {
   "codemirror_mode": {
    "name": "ipython",
    "version": 3
   },
   "file_extension": ".py",
   "mimetype": "text/x-python",
   "name": "python",
   "nbconvert_exporter": "python",
   "pygments_lexer": "ipython3",
   "version": "3.9.16"
  }
 },
 "nbformat": 4,
 "nbformat_minor": 4
}
