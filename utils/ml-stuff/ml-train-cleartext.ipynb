{
 "cells": [
  {
   "cell_type": "code",
   "execution_count": 1,
   "id": "95b30e25-d025-466d-bb7c-a7fde54a70af",
   "metadata": {},
   "outputs": [],
   "source": [
    "import numpy as np\n",
    "import pandas as pd\n",
    "import matplotlib.pyplot as plt\n",
    "%matplotlib inline\n",
    "import seaborn as sns\n",
    "\n",
    "import torch\n",
    "import torchvision\n",
    "import torchvision.transforms as tr\n",
    "import torch.nn as nn\n",
    "from torch.utils.data import random_split\n",
    "import torch.optim as optim\n",
    "from torchvision import models\n",
    "import copy\n"
   ]
  },
  {
   "cell_type": "code",
   "execution_count": 2,
   "id": "c364b90d-3efb-4b59-a0ac-5e8d72562330",
   "metadata": {},
   "outputs": [
    {
     "name": "stdout",
     "output_type": "stream",
     "text": [
      "cpu\n"
     ]
    }
   ],
   "source": [
    "device = \"cpu\"\n",
    "print(device)"
   ]
  },
  {
   "cell_type": "code",
   "execution_count": 3,
   "id": "db510afd-b400-49dd-a05a-4c8d7f5a9016",
   "metadata": {},
   "outputs": [
    {
     "name": "stdout",
     "output_type": "stream",
     "text": [
      "Len of train dataset  60000\n",
      "Len of test dataset  10000\n",
      "------------------------------\n",
      "Dataset MNIST\n",
      "    Number of datapoints: 60000\n",
      "    Root location: ./data\n",
      "    Split: Train\n",
      "Dataset MNIST\n",
      "    Number of datapoints: 10000\n",
      "    Root location: ./data\n",
      "    Split: Test\n",
      "------------------------------\n",
      "(<PIL.Image.Image image mode=L size=28x28 at 0x7F8C38FDB9A0>, 5)\n",
      "(<PIL.Image.Image image mode=L size=28x28 at 0x7F8C4A8B4A00>, 7)\n",
      "------------------------------\n"
     ]
    },
    {
     "data": {
      "image/png": "[encoded data removed]",
      "text/plain": [
       "<PIL.Image.Image image mode=L size=28x28 at 0x7F8C4A8B4A00>"
      ]
     },
     "execution_count": 3,
     "metadata": {},
     "output_type": "execute_result"
    }
   ],
   "source": [
    "trainset = torchvision.datasets.MNIST(root=\"./data\",\n",
    "                                      train=True,\n",
    "                                      download=True)\n",
    "\n",
    "testset = torchvision.datasets.MNIST(root=\"./data\",\n",
    "                                     train=False,\n",
    "                                     download=True)\n",
    "\n",
    "print('Len of train dataset ',len(trainset))\n",
    "print('Len of test dataset ',len(testset))\n",
    "print('-'*30)\n",
    "print(trainset)\n",
    "print(testset)\n",
    "print('-'*30)\n",
    "print(trainset[0])\n",
    "print(testset[0])\n",
    "print('-'*30)\n",
    "trainset[0][0]"
   ]
  },
  {
   "cell_type": "code",
   "execution_count": 4,
   "id": "aefa7fa8-893b-4de2-93e2-b82b5ed6b65f",
   "metadata": {},
   "outputs": [
    {
     "name": "stdout",
     "output_type": "stream",
     "text": [
      "Label : 9\n"
     ]
    },
    {
     "data": {
      "image/png": "[encoded data removed]",
      "text/plain": [
       "<Figure size 432x288 with 1 Axes>"
      ]
     },
     "metadata": {
      "needs_background": "light"
     },
     "output_type": "display_data"
    }
   ],
   "source": [
    "image, label = trainset[4]\n",
    "plt.imshow(image)\n",
    "print(\"Label :\", label)"
   ]
  },
  {
   "cell_type": "code",
   "execution_count": 5,
   "id": "e589b43b-3e85-48ec-80ab-45b72f14d1ec",
   "metadata": {},
   "outputs": [],
   "source": [
    "trainset = torchvision.datasets.MNIST(root=\"./data\",\n",
    "                                      train=True,\n",
    "                                      download=True,\n",
    "                                      transform=tr.ToTensor())\n",
    "\n",
    "testset = torchvision.datasets.MNIST(root=\"./data\",\n",
    "                                     train=False,\n",
    "                                     download=True,\n",
    "                                     transform=tr.ToTensor())\n",
    "\n"
   ]
  },
  {
   "cell_type": "code",
   "execution_count": 6,
   "id": "a1178ce1-a15c-4b82-95bb-06fc835e8edc",
   "metadata": {},
   "outputs": [
    {
     "data": {
      "text/plain": [
       "(50000, 10000)"
      ]
     },
     "execution_count": 6,
     "metadata": {},
     "output_type": "execute_result"
    }
   ],
   "source": [
    "trainset,valset = random_split(trainset,[50000,10000])\n",
    "len(trainset),len(valset)"
   ]
  },
  {
   "cell_type": "code",
   "execution_count": 7,
   "id": "ff9551c0-786e-4ed8-bdba-e632de67d221",
   "metadata": {},
   "outputs": [],
   "source": [
    "batch_size = 128\n",
    "\n",
    "trainloader = torch.utils.data.DataLoader(trainset,\n",
    "                                          batch_size=batch_size,\n",
    "                                          shuffle=True)\n",
    "\n",
    "valloader = torch.utils.data.DataLoader(valset,\n",
    "                                        batch_size=batch_size,\n",
    "                                        shuffle=False)\n",
    "\n",
    "testloader = torch.utils.data.DataLoader(testset,\n",
    "                                         batch_size=batch_size,\n",
    "                                         shuffle=False)\n",
    "\n",
    "classes = ('0','1','2','3','4','5','6','7','8','9')"
   ]
  },
  {
   "cell_type": "code",
   "execution_count": 8,
   "id": "52c77289-e541-448d-9e35-7442d386a4c2",
   "metadata": {},
   "outputs": [
    {
     "data": {
      "text/plain": [
       "LeNet(\n",
       "  (cnn_model): Sequential(\n",
       "    (0): Conv2d(1, 6, kernel_size=(5, 5), stride=(1, 1))\n",
       "    (1): Tanh()\n",
       "    (2): AvgPool2d(kernel_size=2, stride=2, padding=0)\n",
       "    (3): Conv2d(6, 16, kernel_size=(5, 5), stride=(1, 1))\n",
       "    (4): Tanh()\n",
       "    (5): AvgPool2d(kernel_size=2, stride=2, padding=0)\n",
       "  )\n",
       "  (fc_model): Sequential(\n",
       "    (0): Linear(in_features=256, out_features=120, bias=True)\n",
       "    (1): Tanh()\n",
       "    (2): Linear(in_features=120, out_features=84, bias=True)\n",
       "    (3): Tanh()\n",
       "    (4): Linear(in_features=84, out_features=10, bias=True)\n",
       "  )\n",
       ")"
      ]
     },
     "execution_count": 8,
     "metadata": {},
     "output_type": "execute_result"
    }
   ],
   "source": [
    "class LeNet(nn.Module):\n",
    "    def __init__(self):\n",
    "        super(LeNet,self).__init__()\n",
    "        self.cnn_model = nn.Sequential(\n",
    "            nn.Conv2d(1,6,5),\n",
    "            nn.Tanh(),\n",
    "            nn.AvgPool2d(2,stride=2),\n",
    "            nn.Conv2d(6,16,5),\n",
    "            nn.Tanh(),\n",
    "            nn.AvgPool2d(2,stride=2)\n",
    "        )\n",
    "        \n",
    "        self.fc_model = nn.Sequential(\n",
    "            nn.Linear(256,120),\n",
    "            nn.Tanh(),\n",
    "            nn.Linear(120,84),\n",
    "            nn.Tanh(),\n",
    "            nn.Linear(84,10)\n",
    "        )\n",
    "        \n",
    "    def forward(self,x):\n",
    "        x = self.cnn_model(x)\n",
    "        x = x.view(x.size(0), -1)\n",
    "        x = self.fc_model(x)\n",
    "        return x\n",
    "\n",
    "\n",
    "net = LeNet()\n",
    "net"
   ]
  },
  {
   "cell_type": "code",
   "execution_count": 9,
   "id": "3485550d-b097-45be-8e40-6e76688c0f6d",
   "metadata": {},
   "outputs": [],
   "source": [
    "def evaluation(dataloader):\n",
    "    total, correct= 0,0\n",
    "    for data in dataloader:\n",
    "        inputs, labels = data\n",
    "        inputs, labels = inputs.to(device), labels.to(device)\n",
    "        output = net(inputs)\n",
    "        max_pred,pred = torch.max(output.data,dim=1)\n",
    "        total += labels.size(0)\n",
    "        correct += (pred == labels).sum().item()\n",
    "    return 100 * correct/total\n"
   ]
  },
  {
   "cell_type": "code",
   "execution_count": 10,
   "id": "c6fafa6c-23c8-4102-9911-5da5c358fd70",
   "metadata": {},
   "outputs": [],
   "source": [
    "net = LeNet().to(device)\n",
    "loss_fn = nn.CrossEntropyLoss()\n",
    "opt = optim.Adam(net.parameters())"
   ]
  },
  {
   "cell_type": "code",
   "execution_count": 11,
   "id": "a01e0cdf-451a-4856-b3df-1029caf3053b",
   "metadata": {},
   "outputs": [
    {
     "name": "stdout",
     "output_type": "stream",
     "text": [
      "Val accuracy: 93.78 , Train accuracy : 94.05\n",
      "Val accuracy: 96.44 , Train accuracy : 96.75\n",
      "Val accuracy: 97.11 , Train accuracy : 97.80\n",
      "Val accuracy: 97.67 , Train accuracy : 98.31\n",
      "Val accuracy: 98.03 , Train accuracy : 98.66\n",
      "Val accuracy: 98.02 , Train accuracy : 98.73\n",
      "Val accuracy: 98.25 , Train accuracy : 99.05\n",
      "Val accuracy: 98.18 , Train accuracy : 99.01\n",
      "Val accuracy: 98.31 , Train accuracy : 99.21\n",
      "Val accuracy: 98.00 , Train accuracy : 99.13\n",
      "Val accuracy: 98.40 , Train accuracy : 99.39\n",
      "Val accuracy: 98.43 , Train accuracy : 99.46\n",
      "Val accuracy: 98.71 , Train accuracy : 99.65\n",
      "Val accuracy: 98.44 , Train accuracy : 99.66\n",
      "Val accuracy: 98.63 , Train accuracy : 99.68\n",
      "Val accuracy: 98.45 , Train accuracy : 99.58\n"
     ]
    },
    {
     "data": {
      "image/png": "[encoded data removed]",
      "text/plain": [
       "<Figure size 432x288 with 1 Axes>"
      ]
     },
     "metadata": {
      "needs_background": "light"
     },
     "output_type": "display_data"
    },
    {
     "name": "stdout",
     "output_type": "stream",
     "text": [
      "CPU times: user 25min 7s, sys: 14min 20s, total: 39min 27s\n",
      "Wall time: 4min 56s\n"
     ]
    }
   ],
   "source": [
    "%%time\n",
    "def fit(max_epochs=16):\n",
    "    \n",
    "    loss_arr = []\n",
    "    loss_epoch_arr = []\n",
    "    \n",
    "    for epoch in range(max_epochs):\n",
    "            for i,data in enumerate(trainloader,0):\n",
    "                inputs,labels = data\n",
    "                inputs,labels = inputs.to(device),labels.to(device)\n",
    "                \n",
    "                opt.zero_grad()\n",
    "                \n",
    "                outputs = net(inputs)\n",
    "                loss = loss_fn(outputs,labels)\n",
    "                loss.backward()\n",
    "                opt.step()\n",
    "                \n",
    "                loss_arr.append(loss.item())\n",
    "            loss_epoch_arr.append(loss.item())\n",
    "            print('Val accuracy: %0.2f , Train accuracy : %0.2f'%(evaluation(valloader),evaluation(trainloader)))\n",
    "    \n",
    "    plt.plot(loss_epoch_arr)\n",
    "    plt.show()\n",
    "    \n",
    "fit()"
   ]
  },
  {
   "cell_type": "markdown",
   "id": "4b1ab91c-da21-4d07-b03d-458f5e4b0d0c",
   "metadata": {},
   "source": [
    "Note that the above training time is significantly shorter because of the full utilization of the hardware. 8 Cores were used during the training process."
   ]
  }
 ],
 "metadata": {
  "kernelspec": {
   "display_name": "Python 3 (ipykernel)",
   "language": "python",
   "name": "python3"
  },
  "language_info": {
   "codemirror_mode": {
    "name": "ipython",
    "version": 3
   },
   "file_extension": ".py",
   "mimetype": "text/x-python",
   "name": "python",
   "nbconvert_exporter": "python",
   "pygments_lexer": "ipython3",
   "version": "3.8.13"
  }
 },
 "nbformat": 4,
 "nbformat_minor": 5
}
